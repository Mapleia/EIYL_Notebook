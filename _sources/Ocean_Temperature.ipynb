{
 "cells": [
  {
   "cell_type": "markdown",
   "id": "4cd3ee4b",
   "metadata": {},
   "source": [
    "# Ocean Temperature Data Exploring"
   ]
  },
  {
   "cell_type": "markdown",
   "id": "8abe209b",
   "metadata": {},
   "source": [
    "## Setup"
   ]
  },
  {
   "cell_type": "markdown",
   "id": "25e5c52a",
   "metadata": {},
   "source": [
    "Analysis and visualization was done using R and various packages. The following is the script used to generate 2 scatterplot graphs."
   ]
  },
  {
   "cell_type": "code",
   "execution_count": 1,
   "id": "dbfaf99c",
   "metadata": {},
   "outputs": [
    {
     "name": "stderr",
     "output_type": "stream",
     "text": [
      "Registered S3 methods overwritten by 'ggplot2':\n",
      "  method         from \n",
      "  [.quosures     rlang\n",
      "  c.quosures     rlang\n",
      "  print.quosures rlang\n"
     ]
    },
    {
     "name": "stderr",
     "output_type": "stream",
     "text": [
      "Registered S3 method overwritten by 'rvest':\n",
      "  method            from\n",
      "  read_xml.response xml2\n"
     ]
    },
    {
     "name": "stderr",
     "output_type": "stream",
     "text": [
      "-- Attaching packages --------------------------------------- tidyverse 1.2.1 --\n"
     ]
    },
    {
     "name": "stderr",
     "output_type": "stream",
     "text": [
      "v ggplot2 3.1.1       v purrr   0.3.2  \n",
      "v tibble  2.1.1       v dplyr   0.8.0.1\n",
      "v tidyr   0.8.3       v stringr 1.4.0  \n",
      "v readr   1.3.1       v forcats 0.4.0  \n"
     ]
    },
    {
     "name": "stderr",
     "output_type": "stream",
     "text": [
      "-- Conflicts ------------------------------------------ tidyverse_conflicts() --\n",
      "x dplyr::filter() masks stats::filter()\n",
      "x dplyr::lag()    masks stats::lag()\n"
     ]
    },
    {
     "name": "stderr",
     "output_type": "stream",
     "text": [
      "\n",
      "Attaching package: 'lubridate'\n",
      "\n"
     ]
    },
    {
     "name": "stderr",
     "output_type": "stream",
     "text": [
      "The following object is masked from 'package:base':\n",
      "\n",
      "    date\n",
      "\n"
     ]
    },
    {
     "name": "stderr",
     "output_type": "stream",
     "text": [
      "\n",
      "Attaching package: 'plotly'\n",
      "\n"
     ]
    },
    {
     "name": "stderr",
     "output_type": "stream",
     "text": [
      "The following object is masked from 'package:ggplot2':\n",
      "\n",
      "    last_plot\n",
      "\n"
     ]
    },
    {
     "name": "stderr",
     "output_type": "stream",
     "text": [
      "The following object is masked from 'package:stats':\n",
      "\n",
      "    filter\n",
      "\n"
     ]
    },
    {
     "name": "stderr",
     "output_type": "stream",
     "text": [
      "The following object is masked from 'package:graphics':\n",
      "\n",
      "    layout\n",
      "\n"
     ]
    }
   ],
   "source": [
    "library(tidyverse)\n",
    "library(lubridate) \n",
    "library(ggplot2)\n",
    "library(plotly)\n",
    "options(repr.plot.width=10, repr.plot.height=6)"
   ]
  },
  {
   "cell_type": "markdown",
   "id": "2a5d680b",
   "metadata": {},
   "source": [
    "## Reading and Wrangling Data"
   ]
  },
  {
   "cell_type": "markdown",
   "id": "30f9f2e3",
   "metadata": {},
   "source": [
    "Temperature data is found in the `\"data\"` folder, while coordinates (and the time recorded) are in the `\"data/nav\"` folder.\n",
    "\n",
    "All of the temperature data was cleaned using a `Python` script, located in the `data_cleaning` folder. No packages were used, and can be used as long as a v3.9 Python is installed (anything above or below is untested) and the scripts are pointed to the right data sources. *Unfortunately, the version where Jupyter runs on Windows (v3.7 Python) and the data cleaner (v3.9 Python) is different.*\n",
    "\n",
    "- `data/temp_processed_summarized.csv`: mean temp over min\n",
    "- `data/temp_processed.csv`: all temp\n",
    "- `data/nav/nav_processed.csv`: mean GPS over min\n",
    "- `data/nav_temp_joined_processed.csv`: joined mean temp & GPS over min"
   ]
  },
  {
   "cell_type": "markdown",
   "id": "6ae72ed7",
   "metadata": {},
   "source": [
    "The dates are all of type `character`, meaning extracting any use without it being a proper `date` type is hard. Therefore, time and date must be formatted."
   ]
  },
  {
   "cell_type": "code",
   "execution_count": 2,
   "id": "8bbe959f",
   "metadata": {},
   "outputs": [],
   "source": [
    "format_datetime <- function(df) {\n",
    "  df_new <- df %>%\n",
    "    # https://www.neonscience.org/resources/learning-hub/tutorials/dc-time-series-subset-dplyr-r\n",
    "    mutate(date = as.Date(date, format = '%m/%d/%Y')) %>%\n",
    "    # https://www.tidyverse.org/blog/2021/03/clock-0-1-0/\n",
    "    mutate(datetime = as.POSIXct(date, \"America/Vancouver\")) %>%\n",
    "    mutate(datetime = datetime +hour(time)+ minute(time))\n",
    "  \n",
    "  return(df_new)\n",
    "}"
   ]
  },
  {
   "cell_type": "markdown",
   "id": "18c0702e",
   "metadata": {},
   "source": [
    "The following are all of the functions needed to clean up 1 temperature file. However, we have quite a few files, and trying to clean and instantiate each by hand is cumbersome. Therefore, we will iterate through all of the files and summarize.\n",
    "\n",
    "```{attention}\n",
    "Please keep in mind that the following code blocks will take pretty long to run.\n",
    "```"
   ]
  },
  {
   "cell_type": "code",
   "execution_count": 3,
   "id": "d967414f",
   "metadata": {},
   "outputs": [],
   "source": [
    "clean_SBE45_data <- function(x) {\n",
    "  read <- read_delim(x, delim = \",\", \n",
    "                     col_names = c(\"date\", \n",
    "                                    \"time\", \n",
    "                                    \"int_temp\", \n",
    "                                    \"conductivity\",\n",
    "                                    \"salinity\",\n",
    "                                    \"sound_vel\",\n",
    "                                    \"ext_temp\")) %>%\n",
    "    select(date, time, ext_temp)\n",
    "  return(read)\n",
    "}"
   ]
  },
  {
   "cell_type": "code",
   "execution_count": 4,
   "id": "790e27b7",
   "metadata": {},
   "outputs": [],
   "source": [
    "clean_STT_TSG_data <- function(x) {\n",
    "  read <- read_delim(x, delim = \",\",\n",
    "                     col_names = c(\"date\",\n",
    "                                   \"time\",\n",
    "                                   \"type\",\n",
    "                                   \"diff\",\n",
    "                                   \"ext_temp\",\n",
    "                                   \"int_temp\")) %>%\n",
    "    select(date, time, ext_temp)    \n",
    "  return(read)\n",
    "}"
   ]
  },
  {
   "cell_type": "code",
   "execution_count": 5,
   "id": "d6188e00",
   "metadata": {},
   "outputs": [],
   "source": [
    "clean_temp_data <- function(x) {\n",
    "  # https://stackoverflow.com/questions/10128617/test-if-characters-are-in-a-string\n",
    "  if(grepl(\"SBE45-TSG-MSG\", x, fixed = TRUE)) {\n",
    "    return(clean_SBE45_data(x))\n",
    "  } else {\n",
    "    return(clean_STT_TSG_data(x))\n",
    "  }\n",
    "}"
   ]
  },
  {
   "cell_type": "markdown",
   "id": "cc2626d1",
   "metadata": {},
   "source": [
    "This is the data before it is summarized by the minute."
   ]
  },
  {
   "cell_type": "code",
   "execution_count": 6,
   "id": "310d715e",
   "metadata": {},
   "outputs": [
    {
     "name": "stderr",
     "output_type": "stream",
     "text": [
      "Parsed with column specification:\n",
      "cols(\n",
      "  date = col_character(),\n",
      "  time = col_time(format = \"\"),\n",
      "  int_temp = col_double(),\n",
      "  conductivity = col_double(),\n",
      "  salinity = col_double(),\n",
      "  sound_vel = col_double(),\n",
      "  ext_temp = col_double()\n",
      ")\n"
     ]
    },
    {
     "name": "stderr",
     "output_type": "stream",
     "text": [
      "Parsed with column specification:\n",
      "cols(\n",
      "  date = col_character(),\n",
      "  time = col_time(format = \"\"),\n",
      "  int_temp = col_double(),\n",
      "  conductivity = col_double(),\n",
      "  salinity = col_double(),\n",
      "  sound_vel = col_double(),\n",
      "  ext_temp = col_double()\n",
      ")\n"
     ]
    },
    {
     "name": "stderr",
     "output_type": "stream",
     "text": [
      "Warning message:\n",
      "\"5 parsing failures.\n",
      "  row       col expected     actual                                          file\n",
      "61277 ext_temp  a double t215.2754  'data/SBE45-TSG-MSG_20210614-000001_NEW2.Raw'\n",
      "61375 sound_vel a double s1506.032  'data/SBE45-TSG-MSG_20210614-000001_NEW2.Raw'\n",
      "75629 ext_temp  a double t215.4430  'data/SBE45-TSG-MSG_20210614-000001_NEW2.Raw'\n",
      "76575 ext_temp  a double t215.4469  'data/SBE45-TSG-MSG_20210614-000001_NEW2.Raw'\n",
      "78521 sound_vel a double sv1507.524 'data/SBE45-TSG-MSG_20210614-000001_NEW2.Raw'\n",
      "\""
     ]
    },
    {
     "name": "stderr",
     "output_type": "stream",
     "text": [
      "Parsed with column specification:\n",
      "cols(\n",
      "  date = col_character(),\n",
      "  time = col_time(format = \"\"),\n",
      "  int_temp = col_double(),\n",
      "  conductivity = col_double(),\n",
      "  salinity = col_double(),\n",
      "  sound_vel = col_double(),\n",
      "  ext_temp = col_double()\n",
      ")\n"
     ]
    },
    {
     "name": "stderr",
     "output_type": "stream",
     "text": [
      "Warning message:\n",
      "\"437 parsing failures.\n",
      " row          col               expected actual                                          file\n",
      " 762 salinity     no trailing characters        'data/SBE45-TSG-MSG_20210615-000001_NEW2.Raw'\n",
      " 839 conductivity no trailing characters        'data/SBE45-TSG-MSG_20210615-000001_NEW2.Raw'\n",
      " 902 salinity     no trailing characters        'data/SBE45-TSG-MSG_20210615-000001_NEW2.Raw'\n",
      "1120 salinity     no trailing characters        'data/SBE45-TSG-MSG_20210615-000001_NEW2.Raw'\n",
      "1196 ext_temp     no trailing characters        'data/SBE45-TSG-MSG_20210615-000001_NEW2.Raw'\n",
      ".... ............ ...................... ...... .............................................\n",
      "See problems(...) for more details.\n",
      "\""
     ]
    },
    {
     "name": "stderr",
     "output_type": "stream",
     "text": [
      "Parsed with column specification:\n",
      "cols(\n",
      "  date = col_character(),\n",
      "  time = col_time(format = \"\"),\n",
      "  int_temp = col_double(),\n",
      "  conductivity = col_double(),\n",
      "  salinity = col_double(),\n",
      "  sound_vel = col_character(),\n",
      "  ext_temp = col_double()\n",
      ")\n"
     ]
    },
    {
     "name": "stderr",
     "output_type": "stream",
     "text": [
      "Warning message:\n",
      "\"409 parsing failures.\n",
      "row          col               expected        actual                                          file\n",
      "113 sound_vel                           embedded null 'data/SBE45-TSG-MSG_20210616-000001_NEW2.Raw'\n",
      "203 salinity     no trailing characters               'data/SBE45-TSG-MSG_20210616-000001_NEW2.Raw'\n",
      "225 sound_vel                           embedded null 'data/SBE45-TSG-MSG_20210616-000001_NEW2.Raw'\n",
      "279 conductivity no trailing characters               'data/SBE45-TSG-MSG_20210616-000001_NEW2.Raw'\n",
      "314 salinity     no trailing characters               'data/SBE45-TSG-MSG_20210616-000001_NEW2.Raw'\n",
      "... ............ ...................... ............. .............................................\n",
      "See problems(...) for more details.\n",
      "\""
     ]
    },
    {
     "name": "stderr",
     "output_type": "stream",
     "text": [
      "Parsed with column specification:\n",
      "cols(\n",
      "  date = col_character(),\n",
      "  time = col_time(format = \"\"),\n",
      "  int_temp = col_double(),\n",
      "  conductivity = col_double(),\n",
      "  salinity = col_double(),\n",
      "  sound_vel = col_character(),\n",
      "  ext_temp = col_double()\n",
      ")\n"
     ]
    },
    {
     "name": "stderr",
     "output_type": "stream",
     "text": [
      "Warning message:\n",
      "\"629 parsing failures.\n",
      "row          col               expected        actual                                          file\n",
      "102 ext_temp     no trailing characters               'data/SBE45-TSG-MSG_20210617-000001_NEW2.Raw'\n",
      "355 conductivity a double                             'data/SBE45-TSG-MSG_20210617-000001_NEW2.Raw'\n",
      "370 sound_vel                           embedded null 'data/SBE45-TSG-MSG_20210617-000001_NEW2.Raw'\n",
      "465 sound_vel                           embedded null 'data/SBE45-TSG-MSG_20210617-000001_NEW2.Raw'\n",
      "644 ext_temp     a double                             'data/SBE45-TSG-MSG_20210617-000001_NEW2.Raw'\n",
      "... ............ ...................... ............. .............................................\n",
      "See problems(...) for more details.\n",
      "\""
     ]
    },
    {
     "name": "stderr",
     "output_type": "stream",
     "text": [
      "Parsed with column specification:\n",
      "cols(\n",
      "  date = col_character(),\n",
      "  time = col_time(format = \"\"),\n",
      "  int_temp = col_double(),\n",
      "  conductivity = col_double(),\n",
      "  salinity = col_double(),\n",
      "  sound_vel = col_double(),\n",
      "  ext_temp = col_double()\n",
      ")\n"
     ]
    },
    {
     "name": "stderr",
     "output_type": "stream",
     "text": [
      "Warning message:\n",
      "\"227 parsing failures.\n",
      " row       col               expected actual                                          file\n",
      " 785 salinity  no trailing characters        'data/SBE45-TSG-MSG_20210618-000001_NEW2.Raw'\n",
      " 785 sound_vel no trailing characters        'data/SBE45-TSG-MSG_20210618-000001_NEW2.Raw'\n",
      "1072 sound_vel no trailing characters        'data/SBE45-TSG-MSG_20210618-000001_NEW2.Raw'\n",
      "1393 ext_temp  no trailing characters        'data/SBE45-TSG-MSG_20210618-000001_NEW2.Raw'\n",
      "1399 ext_temp  no trailing characters        'data/SBE45-TSG-MSG_20210618-000001_NEW2.Raw'\n",
      ".... ......... ...................... ...... .............................................\n",
      "See problems(...) for more details.\n",
      "\""
     ]
    },
    {
     "name": "stderr",
     "output_type": "stream",
     "text": [
      "Parsed with column specification:\n",
      "cols(\n",
      "  date = col_character(),\n",
      "  time = col_time(format = \"\"),\n",
      "  int_temp = col_double(),\n",
      "  conductivity = col_character(),\n",
      "  salinity = col_double(),\n",
      "  sound_vel = col_character(),\n",
      "  ext_temp = col_double()\n",
      ")\n"
     ]
    },
    {
     "name": "stderr",
     "output_type": "stream",
     "text": [
      "Warning message:\n",
      "\"709 parsing failures.\n",
      " row          col               expected        actual                                          file\n",
      " 251 conductivity                        embedded null 'data/SBE45-TSG-MSG_20210619-000001_NEW2.Raw'\n",
      " 452 salinity     a double                             'data/SBE45-TSG-MSG_20210619-000001_NEW2.Raw'\n",
      " 452 sound_vel                           embedded null 'data/SBE45-TSG-MSG_20210619-000001_NEW2.Raw'\n",
      "1218 salinity     a double               s             'data/SBE45-TSG-MSG_20210619-000001_NEW2.Raw'\n",
      "1916 salinity     no trailing characters               'data/SBE45-TSG-MSG_20210619-000001_NEW2.Raw'\n",
      ".... ............ ...................... ............. .............................................\n",
      "See problems(...) for more details.\n",
      "\""
     ]
    },
    {
     "name": "stderr",
     "output_type": "stream",
     "text": [
      "Parsed with column specification:\n",
      "cols(\n",
      "  date = col_character(),\n",
      "  time = col_time(format = \"\"),\n",
      "  int_temp = col_double(),\n",
      "  conductivity = col_double(),\n",
      "  salinity = col_double(),\n",
      "  sound_vel = col_double(),\n",
      "  ext_temp = col_double()\n",
      ")\n"
     ]
    },
    {
     "name": "stderr",
     "output_type": "stream",
     "text": [
      "Warning message:\n",
      "\"122 parsing failures.\n",
      " row       col expected     actual                                          file\n",
      "1540 sound_vel a double s1501.308  'data/SBE45-TSG-MSG_20210620-000001_NEW2.Raw'\n",
      "1777 ext_temp  a double t13.723    'data/SBE45-TSG-MSG_20210620-000001_NEW2.Raw'\n",
      "1832 sound_vel a double sv1501.231 'data/SBE45-TSG-MSG_20210620-000001_NEW2.Raw'\n",
      "2113 ext_temp  a double t213.8195  'data/SBE45-TSG-MSG_20210620-000001_NEW2.Raw'\n",
      "2235 sound_vel a double sv1501.379 'data/SBE45-TSG-MSG_20210620-000001_NEW2.Raw'\n",
      ".... ......... ........ .......... .............................................\n",
      "See problems(...) for more details.\n",
      "\""
     ]
    },
    {
     "name": "stderr",
     "output_type": "stream",
     "text": [
      "Parsed with column specification:\n",
      "cols(\n",
      "  date = col_character(),\n",
      "  time = col_time(format = \"\"),\n",
      "  int_temp = col_double(),\n",
      "  conductivity = col_double(),\n",
      "  salinity = col_character(),\n",
      "  sound_vel = col_double(),\n",
      "  ext_temp = col_double()\n",
      ")\n"
     ]
    },
    {
     "name": "stderr",
     "output_type": "stream",
     "text": [
      "Warning message:\n",
      "\"536 parsing failures.\n",
      "row       col               expected        actual                                          file\n",
      " 65 salinity                         embedded null 'data/SBE45-TSG-MSG_20210621-000001_NEW2.Raw'\n",
      "112 ext_temp  a double                             'data/SBE45-TSG-MSG_20210621-000001_NEW2.Raw'\n",
      "304 ext_temp  a double                             'data/SBE45-TSG-MSG_20210621-000001_NEW2.Raw'\n",
      "399 sound_vel no trailing characters               'data/SBE45-TSG-MSG_20210621-000001_NEW2.Raw'\n",
      "418 salinity                         embedded null 'data/SBE45-TSG-MSG_20210621-000001_NEW2.Raw'\n",
      "... ......... ...................... ............. .............................................\n",
      "See problems(...) for more details.\n",
      "\""
     ]
    },
    {
     "name": "stderr",
     "output_type": "stream",
     "text": [
      "Parsed with column specification:\n",
      "cols(\n",
      "  date = col_character(),\n",
      "  time = col_time(format = \"\"),\n",
      "  int_temp = col_double(),\n",
      "  conductivity = col_double(),\n",
      "  salinity = col_double(),\n",
      "  sound_vel = col_double(),\n",
      "  ext_temp = col_double()\n",
      ")\n"
     ]
    },
    {
     "name": "stderr",
     "output_type": "stream",
     "text": [
      "Warning message:\n",
      "\"84 parsing failures.\n",
      " row          col expected     actual                                          file\n",
      "3197 ext_temp     a double t28.9385   'data/SBE45-TSG-MSG_20210622-000001_NEW2.Raw'\n",
      "3835 ext_temp     a double t28.8853   'data/SBE45-TSG-MSG_20210622-000001_NEW2.Raw'\n",
      "4131 ext_temp     a double t8.871     'data/SBE45-TSG-MSG_20210622-000001_NEW2.Raw'\n",
      "8332 conductivity a double c13.87471  'data/SBE45-TSG-MSG_20210622-000001_NEW2.Raw'\n",
      "8732 sound_vel    a double sv1501.287 'data/SBE45-TSG-MSG_20210622-000001_NEW2.Raw'\n",
      ".... ............ ........ .......... .............................................\n",
      "See problems(...) for more details.\n",
      "\""
     ]
    },
    {
     "name": "stderr",
     "output_type": "stream",
     "text": [
      "Parsed with column specification:\n",
      "cols(\n",
      "  date = col_character(),\n",
      "  time = col_time(format = \"\"),\n",
      "  int_temp = col_double(),\n",
      "  conductivity = col_character(),\n",
      "  salinity = col_double(),\n",
      "  sound_vel = col_character(),\n",
      "  ext_temp = col_double()\n",
      ")\n"
     ]
    },
    {
     "name": "stderr",
     "output_type": "stream",
     "text": [
      "Warning message:\n",
      "\"856 parsing failures.\n",
      "row          col expected        actual                                          file\n",
      "188 ext_temp     a double               'data/SBE45-TSG-MSG_20210623-000001_NEW2.Raw'\n",
      "358 conductivity          embedded null 'data/SBE45-TSG-MSG_20210623-000001_NEW2.Raw'\n",
      "669 sound_vel             embedded null 'data/SBE45-TSG-MSG_20210623-000001_NEW2.Raw'\n",
      "675 sound_vel             embedded null 'data/SBE45-TSG-MSG_20210623-000001_NEW2.Raw'\n",
      "675 ext_temp     a double               'data/SBE45-TSG-MSG_20210623-000001_NEW2.Raw'\n",
      "... ............ ........ ............. .............................................\n",
      "See problems(...) for more details.\n",
      "\""
     ]
    },
    {
     "name": "stderr",
     "output_type": "stream",
     "text": [
      "Parsed with column specification:\n",
      "cols(\n",
      "  date = col_character(),\n",
      "  time = col_time(format = \"\"),\n",
      "  int_temp = col_double(),\n",
      "  conductivity = col_double(),\n",
      "  salinity = col_double(),\n",
      "  sound_vel = col_double(),\n",
      "  ext_temp = col_double()\n",
      ")\n"
     ]
    },
    {
     "name": "stderr",
     "output_type": "stream",
     "text": [
      "Warning message:\n",
      "\"418 parsing failures.\n",
      "row       col               expected actual                                          file\n",
      "131 sound_vel no trailing characters        'data/SBE45-TSG-MSG_20210624-000001_NEW2.Raw'\n",
      "442 salinity  a double                      'data/SBE45-TSG-MSG_20210624-000001_NEW2.Raw'\n",
      "655 ext_temp  a double                      'data/SBE45-TSG-MSG_20210624-000001_NEW2.Raw'\n",
      "805 salinity  a double                      'data/SBE45-TSG-MSG_20210624-000001_NEW2.Raw'\n",
      "881 ext_temp  a double                      'data/SBE45-TSG-MSG_20210624-000001_NEW2.Raw'\n",
      "... ......... ...................... ...... .............................................\n",
      "See problems(...) for more details.\n",
      "\""
     ]
    },
    {
     "name": "stderr",
     "output_type": "stream",
     "text": [
      "Parsed with column specification:\n",
      "cols(\n",
      "  date = col_character(),\n",
      "  time = col_time(format = \"\"),\n",
      "  int_temp = col_double(),\n",
      "  conductivity = col_double(),\n",
      "  salinity = col_double(),\n",
      "  sound_vel = col_double(),\n",
      "  ext_temp = col_double()\n",
      ")\n"
     ]
    },
    {
     "name": "stderr",
     "output_type": "stream",
     "text": [
      "Warning message:\n",
      "\"19 parsing failures.\n",
      "  row          col  expected    actual                                          file\n",
      " 4586 ext_temp     a double  t12.9442  'data/SBE45-TSG-MSG_20210625-000001_NEW2.Raw'\n",
      " 5768 sound_vel    a double  s1496.074 'data/SBE45-TSG-MSG_20210625-000001_NEW2.Raw'\n",
      "10338 conductivity a double  c13.85156 'data/SBE45-TSG-MSG_20210625-000001_NEW2.Raw'\n",
      "13897 NA           7 columns 6 columns 'data/SBE45-TSG-MSG_20210625-000001_NEW2.Raw'\n",
      "13898 NA           7 columns 4 columns 'data/SBE45-TSG-MSG_20210625-000001_NEW2.Raw'\n",
      "..... ............ ......... ......... .............................................\n",
      "See problems(...) for more details.\n",
      "\""
     ]
    },
    {
     "name": "stderr",
     "output_type": "stream",
     "text": [
      "Parsed with column specification:\n",
      "cols(\n",
      "  date = col_character(),\n",
      "  time = col_time(format = \"\"),\n",
      "  int_temp = col_double(),\n",
      "  conductivity = col_double(),\n",
      "  salinity = col_double(),\n",
      "  sound_vel = col_double(),\n",
      "  ext_temp = col_double()\n",
      ")\n"
     ]
    },
    {
     "name": "stderr",
     "output_type": "stream",
     "text": [
      "Warning message:\n",
      "\"258 parsing failures.\n",
      " row       col               expected actual                                          file\n",
      " 250 ext_temp  no trailing characters        'data/SBE45-TSG-MSG_20210626-000001_NEW2.Raw'\n",
      " 389 sound_vel a double                      'data/SBE45-TSG-MSG_20210626-000001_NEW2.Raw'\n",
      " 452 ext_temp  no trailing characters        'data/SBE45-TSG-MSG_20210626-000001_NEW2.Raw'\n",
      " 639 ext_temp  no trailing characters        'data/SBE45-TSG-MSG_20210626-000001_NEW2.Raw'\n",
      "2336 sound_vel a double                   sv 'data/SBE45-TSG-MSG_20210626-000001_NEW2.Raw'\n",
      ".... ......... ...................... ...... .............................................\n",
      "See problems(...) for more details.\n",
      "\""
     ]
    },
    {
     "name": "stderr",
     "output_type": "stream",
     "text": [
      "Parsed with column specification:\n",
      "cols(\n",
      "  date = col_character(),\n",
      "  time = col_time(format = \"\"),\n",
      "  int_temp = col_double(),\n",
      "  conductivity = col_double(),\n",
      "  salinity = col_double(),\n",
      "  sound_vel = col_double(),\n",
      "  ext_temp = col_double()\n",
      ")\n"
     ]
    },
    {
     "name": "stderr",
     "output_type": "stream",
     "text": [
      "Warning message:\n",
      "\"174 parsing failures.\n",
      " row          col               expected actual                                          file\n",
      "1267 sound_vel    no trailing characters        'data/SBE45-TSG-MSG_20210627-000001_NEW2.Raw'\n",
      "1545 sound_vel    no trailing characters        'data/SBE45-TSG-MSG_20210627-000001_NEW2.Raw'\n",
      "1546 conductivity a double                      'data/SBE45-TSG-MSG_20210627-000001_NEW2.Raw'\n",
      "1684 ext_temp     no trailing characters        'data/SBE45-TSG-MSG_20210627-000001_NEW2.Raw'\n",
      "1685 sound_vel    no trailing characters        'data/SBE45-TSG-MSG_20210627-000001_NEW2.Raw'\n",
      ".... ............ ...................... ...... .............................................\n",
      "See problems(...) for more details.\n",
      "\""
     ]
    },
    {
     "name": "stderr",
     "output_type": "stream",
     "text": [
      "Parsed with column specification:\n",
      "cols(\n",
      "  date = col_character(),\n",
      "  time = col_time(format = \"\"),\n",
      "  int_temp = col_double(),\n",
      "  conductivity = col_double(),\n",
      "  salinity = col_double(),\n",
      "  sound_vel = col_double(),\n",
      "  ext_temp = col_double()\n",
      ")\n"
     ]
    },
    {
     "name": "stderr",
     "output_type": "stream",
     "text": [
      "Warning message:\n",
      "\"76 parsing failures.\n",
      " row       col               expected actual                                          file\n",
      " 538 sound_vel no trailing characters        'data/SBE45-TSG-MSG_20210628-000001_NEW2.Raw'\n",
      "2337 ext_temp  no trailing characters        'data/SBE45-TSG-MSG_20210628-000001_NEW2.Raw'\n",
      "5968 sound_vel no trailing characters        'data/SBE45-TSG-MSG_20210628-000001_NEW2.Raw'\n",
      "7576 ext_temp  no trailing characters        'data/SBE45-TSG-MSG_20210628-000001_NEW2.Raw'\n",
      "9407 sound_vel a double                      'data/SBE45-TSG-MSG_20210628-000001_NEW2.Raw'\n",
      ".... ......... ...................... ...... .............................................\n",
      "See problems(...) for more details.\n",
      "\""
     ]
    },
    {
     "name": "stderr",
     "output_type": "stream",
     "text": [
      "Parsed with column specification:\n",
      "cols(\n",
      "  date = col_character(),\n",
      "  time = col_time(format = \"\"),\n",
      "  int_temp = col_double(),\n",
      "  conductivity = col_double(),\n",
      "  salinity = col_double(),\n",
      "  sound_vel = col_double(),\n",
      "  ext_temp = col_double()\n",
      ")\n"
     ]
    },
    {
     "name": "stderr",
     "output_type": "stream",
     "text": [
      "Warning message:\n",
      "\"113 parsing failures.\n",
      " row          col               expected actual                                          file\n",
      "1065 ext_temp     no trailing characters        'data/SBE45-TSG-MSG_20210629-000001_NEW2.Raw'\n",
      "1911 ext_temp     no trailing characters        'data/SBE45-TSG-MSG_20210629-000001_NEW2.Raw'\n",
      "1939 ext_temp     no trailing characters        'data/SBE45-TSG-MSG_20210629-000001_NEW2.Raw'\n",
      "2042 conductivity no trailing characters        'data/SBE45-TSG-MSG_20210629-000001_NEW2.Raw'\n",
      "2228 sound_vel    no trailing characters        'data/SBE45-TSG-MSG_20210629-000001_NEW2.Raw'\n",
      ".... ............ ...................... ...... .............................................\n",
      "See problems(...) for more details.\n",
      "\""
     ]
    },
    {
     "name": "stderr",
     "output_type": "stream",
     "text": [
      "Parsed with column specification:\n",
      "cols(\n",
      "  date = col_character(),\n",
      "  time = col_time(format = \"\"),\n",
      "  int_temp = col_double(),\n",
      "  conductivity = col_double(),\n",
      "  salinity = col_character(),\n",
      "  sound_vel = col_double(),\n",
      "  ext_temp = col_double()\n",
      ")\n"
     ]
    },
    {
     "name": "stderr",
     "output_type": "stream",
     "text": [
      "Warning message:\n",
      "\"129 parsing failures.\n",
      "row          col expected        actual                                          file\n",
      "426 salinity              embedded null 'data/SBE45-TSG-MSG_20210630-000001_NEW2.Raw'\n",
      "436 ext_temp     a double               'data/SBE45-TSG-MSG_20210630-000001_NEW2.Raw'\n",
      "795 salinity              embedded null 'data/SBE45-TSG-MSG_20210630-000001_NEW2.Raw'\n",
      "881 conductivity a double               'data/SBE45-TSG-MSG_20210630-000001_NEW2.Raw'\n",
      "881 salinity              embedded null 'data/SBE45-TSG-MSG_20210630-000001_NEW2.Raw'\n",
      "... ............ ........ ............. .............................................\n",
      "See problems(...) for more details.\n",
      "\""
     ]
    },
    {
     "name": "stderr",
     "output_type": "stream",
     "text": [
      "Parsed with column specification:\n",
      "cols(\n",
      "  date = col_character(),\n",
      "  time = col_time(format = \"\"),\n",
      "  int_temp = col_double(),\n",
      "  conductivity = col_double(),\n",
      "  salinity = col_double(),\n",
      "  sound_vel = col_double(),\n",
      "  ext_temp = col_double()\n",
      ")\n"
     ]
    },
    {
     "name": "stderr",
     "output_type": "stream",
     "text": [
      "Warning message:\n",
      "\"112 parsing failures.\n",
      " row       col               expected actual                                          file\n",
      "1304 ext_temp  no trailing characters        'data/SBE45-TSG-MSG_20210701-000001_NEW2.Raw'\n",
      "3147 salinity  a double                      'data/SBE45-TSG-MSG_20210701-000001_NEW2.Raw'\n",
      "3611 sound_vel no trailing characters        'data/SBE45-TSG-MSG_20210701-000001_NEW2.Raw'\n",
      "3611 ext_temp  no trailing characters        'data/SBE45-TSG-MSG_20210701-000001_NEW2.Raw'\n",
      "3612 int_temp  a double                      'data/SBE45-TSG-MSG_20210701-000001_NEW2.Raw'\n",
      ".... ......... ...................... ...... .............................................\n",
      "See problems(...) for more details.\n",
      "\""
     ]
    },
    {
     "name": "stderr",
     "output_type": "stream",
     "text": [
      "Parsed with column specification:\n",
      "cols(\n",
      "  date = col_character(),\n",
      "  time = col_time(format = \"\"),\n",
      "  int_temp = col_double(),\n",
      "  conductivity = col_double(),\n",
      "  salinity = col_double(),\n",
      "  sound_vel = col_double(),\n",
      "  ext_temp = col_double()\n",
      ")\n"
     ]
    },
    {
     "name": "stderr",
     "output_type": "stream",
     "text": [
      "Warning message:\n",
      "\"117 parsing failures.\n",
      " row          col               expected actual                                          file\n",
      "5882 salinity     no trailing characters        'data/SBE45-TSG-MSG_20210702-000001_NEW2.Raw'\n",
      "5963 salinity     no trailing characters        'data/SBE45-TSG-MSG_20210702-000001_NEW2.Raw'\n",
      "5992 ext_temp     no trailing characters        'data/SBE45-TSG-MSG_20210702-000001_NEW2.Raw'\n",
      "6054 sound_vel    a double                      'data/SBE45-TSG-MSG_20210702-000001_NEW2.Raw'\n",
      "6129 conductivity no trailing characters        'data/SBE45-TSG-MSG_20210702-000001_NEW2.Raw'\n",
      ".... ............ ...................... ...... .............................................\n",
      "See problems(...) for more details.\n",
      "\""
     ]
    },
    {
     "name": "stderr",
     "output_type": "stream",
     "text": [
      "Parsed with column specification:\n",
      "cols(\n",
      "  date = col_character(),\n",
      "  time = col_time(format = \"\"),\n",
      "  int_temp = col_double(),\n",
      "  conductivity = col_character(),\n",
      "  salinity = col_double(),\n",
      "  sound_vel = col_double(),\n",
      "  ext_temp = col_double()\n",
      ")\n"
     ]
    },
    {
     "name": "stderr",
     "output_type": "stream",
     "text": [
      "Warning message:\n",
      "\"34 parsing failures.\n",
      " row          col               expected        actual                                          file\n",
      "  28 conductivity                        embedded null 'data/SBE45-TSG-MSG_20210703-000001_NEW2.Raw'\n",
      "  37 salinity     no trailing characters               'data/SBE45-TSG-MSG_20210703-000001_NEW2.Raw'\n",
      " 527 ext_temp     a double                             'data/SBE45-TSG-MSG_20210703-000001_NEW2.Raw'\n",
      "1413 ext_temp     a double               t2            'data/SBE45-TSG-MSG_20210703-000001_NEW2.Raw'\n",
      "1524 salinity     no trailing characters               'data/SBE45-TSG-MSG_20210703-000001_NEW2.Raw'\n",
      ".... ............ ...................... ............. .............................................\n",
      "See problems(...) for more details.\n",
      "\""
     ]
    },
    {
     "name": "stderr",
     "output_type": "stream",
     "text": [
      "Parsed with column specification:\n",
      "cols(\n",
      "  date = col_character(),\n",
      "  time = col_time(format = \"\"),\n",
      "  int_temp = col_character(),\n",
      "  conductivity = col_double(),\n",
      "  salinity = col_double(),\n",
      "  sound_vel = col_double(),\n",
      "  ext_temp = col_double()\n",
      ")\n"
     ]
    },
    {
     "name": "stderr",
     "output_type": "stream",
     "text": [
      "Warning message:\n",
      "\"6 parsing failures.\n",
      "  row          col               expected    actual                                          file\n",
      "    1 NA           7 columns              6 columns 'data/SBE45-TSG-MSG_20210703-065123_NEW2.Raw'\n",
      "41331 salinity     no trailing characters           'data/SBE45-TSG-MSG_20210703-065123_NEW2.Raw'\n",
      "44803 ext_temp     no trailing characters           'data/SBE45-TSG-MSG_20210703-065123_NEW2.Raw'\n",
      "45451 conductivity a double                         'data/SBE45-TSG-MSG_20210703-065123_NEW2.Raw'\n",
      "46384 sound_vel    a double               s         'data/SBE45-TSG-MSG_20210703-065123_NEW2.Raw'\n",
      "..... ............ ...................... ......... .............................................\n",
      "See problems(...) for more details.\n",
      "\""
     ]
    },
    {
     "name": "stderr",
     "output_type": "stream",
     "text": [
      "Parsed with column specification:\n",
      "cols(\n",
      "  date = col_character(),\n",
      "  time = col_time(format = \"\"),\n",
      "  int_temp = col_double(),\n",
      "  conductivity = col_double(),\n",
      "  salinity = col_double(),\n",
      "  sound_vel = col_double(),\n",
      "  ext_temp = col_double()\n",
      ")\n"
     ]
    },
    {
     "name": "stderr",
     "output_type": "stream",
     "text": [
      "Warning message:\n",
      "\"12 parsing failures.\n",
      "  row          col               expected actual                                          file\n",
      "11513 salinity     a double                      'data/SBE45-TSG-MSG_20210704-000001_NEW2.Raw'\n",
      "11603 ext_temp     a double                   t2 'data/SBE45-TSG-MSG_20210704-000001_NEW2.Raw'\n",
      "12857 conductivity no trailing characters        'data/SBE45-TSG-MSG_20210704-000001_NEW2.Raw'\n",
      "12857 salinity     no trailing characters        'data/SBE45-TSG-MSG_20210704-000001_NEW2.Raw'\n",
      "28603 salinity     no trailing characters        'data/SBE45-TSG-MSG_20210704-000001_NEW2.Raw'\n",
      "..... ............ ...................... ...... .............................................\n",
      "See problems(...) for more details.\n",
      "\""
     ]
    },
    {
     "name": "stderr",
     "output_type": "stream",
     "text": [
      "Parsed with column specification:\n",
      "cols(\n",
      "  date = col_character(),\n",
      "  time = col_time(format = \"\"),\n",
      "  int_temp = col_double(),\n",
      "  conductivity = col_double(),\n",
      "  salinity = col_double(),\n",
      "  sound_vel = col_double(),\n",
      "  ext_temp = col_double()\n",
      ")\n"
     ]
    },
    {
     "name": "stderr",
     "output_type": "stream",
     "text": [
      "Warning message:\n",
      "\"10 parsing failures.\n",
      "  row       col               expected actual                                          file\n",
      "  108 ext_temp  a double                      'data/SBE45-TSG-MSG_20210705-000001_NEW2.Raw'\n",
      "21846 ext_temp  no trailing characters        'data/SBE45-TSG-MSG_20210705-000001_NEW2.Raw'\n",
      "27395 ext_temp  a double                      'data/SBE45-TSG-MSG_20210705-000001_NEW2.Raw'\n",
      "38937 salinity  no trailing characters        'data/SBE45-TSG-MSG_20210705-000001_NEW2.Raw'\n",
      "49712 sound_vel a double                      'data/SBE45-TSG-MSG_20210705-000001_NEW2.Raw'\n",
      "..... ......... ...................... ...... .............................................\n",
      "See problems(...) for more details.\n",
      "\""
     ]
    },
    {
     "name": "stderr",
     "output_type": "stream",
     "text": [
      "Parsed with column specification:\n",
      "cols(\n",
      "  date = col_character(),\n",
      "  time = col_time(format = \"\"),\n",
      "  int_temp = col_double(),\n",
      "  conductivity = col_double(),\n",
      "  salinity = col_double(),\n",
      "  sound_vel = col_double(),\n",
      "  ext_temp = col_double()\n",
      ")\n"
     ]
    },
    {
     "name": "stderr",
     "output_type": "stream",
     "text": [
      "Warning message:\n",
      "\"6 parsing failures.\n",
      "  row          col               expected actual                                          file\n",
      "13534 conductivity no trailing characters        'data/SBE45-TSG-MSG_20210706-000001_NEW2.Raw'\n",
      "41652 ext_temp     no trailing characters        'data/SBE45-TSG-MSG_20210706-000001_NEW2.Raw'\n",
      "42431 salinity     no trailing characters        'data/SBE45-TSG-MSG_20210706-000001_NEW2.Raw'\n",
      "60746 sound_vel    no trailing characters        'data/SBE45-TSG-MSG_20210706-000001_NEW2.Raw'\n",
      "68187 sound_vel    no trailing characters        'data/SBE45-TSG-MSG_20210706-000001_NEW2.Raw'\n",
      "..... ............ ...................... ...... .............................................\n",
      "See problems(...) for more details.\n",
      "\""
     ]
    },
    {
     "name": "stderr",
     "output_type": "stream",
     "text": [
      "Parsed with column specification:\n",
      "cols(\n",
      "  date = col_character(),\n",
      "  time = col_time(format = \"\"),\n",
      "  int_temp = col_double(),\n",
      "  conductivity = col_double(),\n",
      "  salinity = col_double(),\n",
      "  sound_vel = col_double(),\n",
      "  ext_temp = col_double()\n",
      ")\n"
     ]
    },
    {
     "name": "stderr",
     "output_type": "stream",
     "text": [
      "Warning message:\n",
      "\"9 parsing failures.\n",
      "  row       col               expected actual                                          file\n",
      "30143 sound_vel a double                      'data/SBE45-TSG-MSG_20210707-000001_NEW2.Raw'\n",
      "32477 ext_temp  no trailing characters        'data/SBE45-TSG-MSG_20210707-000001_NEW2.Raw'\n",
      "33013 ext_temp  a double                      'data/SBE45-TSG-MSG_20210707-000001_NEW2.Raw'\n",
      "37564 salinity  no trailing characters        'data/SBE45-TSG-MSG_20210707-000001_NEW2.Raw'\n",
      "39214 salinity  no trailing characters        'data/SBE45-TSG-MSG_20210707-000001_NEW2.Raw'\n",
      "..... ......... ...................... ...... .............................................\n",
      "See problems(...) for more details.\n",
      "\""
     ]
    },
    {
     "name": "stderr",
     "output_type": "stream",
     "text": [
      "Parsed with column specification:\n",
      "cols(\n",
      "  date = col_character(),\n",
      "  time = col_time(format = \"\"),\n",
      "  int_temp = col_double(),\n",
      "  conductivity = col_double(),\n",
      "  salinity = col_double(),\n",
      "  sound_vel = col_double(),\n",
      "  ext_temp = col_double()\n",
      ")\n"
     ]
    },
    {
     "name": "stderr",
     "output_type": "stream",
     "text": [
      "Warning message:\n",
      "\"9 parsing failures.\n",
      "  row       col               expected actual                                          file\n",
      "17065 ext_temp  a double                    t 'data/SBE45-TSG-MSG_20210708-000001_NEW2.Raw'\n",
      "23522 sound_vel a double                      'data/SBE45-TSG-MSG_20210708-000001_NEW2.Raw'\n",
      "25578 ext_temp  no trailing characters        'data/SBE45-TSG-MSG_20210708-000001_NEW2.Raw'\n",
      "33578 sound_vel no trailing characters        'data/SBE45-TSG-MSG_20210708-000001_NEW2.Raw'\n",
      "33598 sound_vel a double                    s 'data/SBE45-TSG-MSG_20210708-000001_NEW2.Raw'\n",
      "..... ......... ...................... ...... .............................................\n",
      "See problems(...) for more details.\n",
      "\""
     ]
    },
    {
     "name": "stderr",
     "output_type": "stream",
     "text": [
      "Parsed with column specification:\n",
      "cols(\n",
      "  date = col_character(),\n",
      "  time = col_time(format = \"\"),\n",
      "  int_temp = col_double(),\n",
      "  conductivity = col_double(),\n",
      "  salinity = col_double(),\n",
      "  sound_vel = col_double(),\n",
      "  ext_temp = col_double()\n",
      ")\n"
     ]
    },
    {
     "name": "stderr",
     "output_type": "stream",
     "text": [
      "Warning message:\n",
      "\"10 parsing failures.\n",
      "  row       col               expected actual                                          file\n",
      " 5371 sound_vel a double                      'data/SBE45-TSG-MSG_20210709-000001_NEW2.Raw'\n",
      "13187 ext_temp  a double                      'data/SBE45-TSG-MSG_20210709-000001_NEW2.Raw'\n",
      "14907 ext_temp  a double                    t 'data/SBE45-TSG-MSG_20210709-000001_NEW2.Raw'\n",
      "17313 sound_vel no trailing characters        'data/SBE45-TSG-MSG_20210709-000001_NEW2.Raw'\n",
      "31716 salinity  a double                      'data/SBE45-TSG-MSG_20210709-000001_NEW2.Raw'\n",
      "..... ......... ...................... ...... .............................................\n",
      "See problems(...) for more details.\n",
      "\""
     ]
    },
    {
     "name": "stderr",
     "output_type": "stream",
     "text": [
      "Parsed with column specification:\n",
      "cols(\n",
      "  date = col_character(),\n",
      "  time = col_time(format = \"\"),\n",
      "  int_temp = col_double(),\n",
      "  conductivity = col_double(),\n",
      "  salinity = col_double(),\n",
      "  sound_vel = col_double(),\n",
      "  ext_temp = col_double()\n",
      ")\n"
     ]
    },
    {
     "name": "stderr",
     "output_type": "stream",
     "text": [
      "Warning message:\n",
      "\"10 parsing failures.\n",
      "  row          col               expected actual                                          file\n",
      " 9331 conductivity no trailing characters        'data/SBE45-TSG-MSG_20210710-000001_NEW2.Raw'\n",
      " 9601 salinity     no trailing characters        'data/SBE45-TSG-MSG_20210710-000001_NEW2.Raw'\n",
      "15851 sound_vel    a double                      'data/SBE45-TSG-MSG_20210710-000001_NEW2.Raw'\n",
      "42485 ext_temp     a double                      'data/SBE45-TSG-MSG_20210710-000001_NEW2.Raw'\n",
      "50737 sound_vel    no trailing characters        'data/SBE45-TSG-MSG_20210710-000001_NEW2.Raw'\n",
      "..... ............ ...................... ...... .............................................\n",
      "See problems(...) for more details.\n",
      "\""
     ]
    },
    {
     "name": "stderr",
     "output_type": "stream",
     "text": [
      "Parsed with column specification:\n",
      "cols(\n",
      "  date = col_character(),\n",
      "  time = col_time(format = \"\"),\n",
      "  int_temp = col_double(),\n",
      "  conductivity = col_double(),\n",
      "  salinity = col_double(),\n",
      "  sound_vel = col_double(),\n",
      "  ext_temp = col_double()\n",
      ")\n"
     ]
    },
    {
     "name": "stderr",
     "output_type": "stream",
     "text": [
      "Warning message:\n",
      "\"14 parsing failures.\n",
      "  row          col               expected actual                                          file\n",
      " 3297 salinity     a double                      'data/SBE45-TSG-MSG_20210711-000001_NEW2.Raw'\n",
      " 6417 sound_vel    a double                      'data/SBE45-TSG-MSG_20210711-000001_NEW2.Raw'\n",
      "13139 salinity     no trailing characters        'data/SBE45-TSG-MSG_20210711-000001_NEW2.Raw'\n",
      "28256 conductivity no trailing characters        'data/SBE45-TSG-MSG_20210711-000001_NEW2.Raw'\n",
      "28261 ext_temp     a double                      'data/SBE45-TSG-MSG_20210711-000001_NEW2.Raw'\n",
      "..... ............ ...................... ...... .............................................\n",
      "See problems(...) for more details.\n",
      "\""
     ]
    },
    {
     "name": "stderr",
     "output_type": "stream",
     "text": [
      "Parsed with column specification:\n",
      "cols(\n",
      "  date = col_character(),\n",
      "  time = col_time(format = \"\"),\n",
      "  int_temp = col_double(),\n",
      "  conductivity = col_double(),\n",
      "  salinity = col_double(),\n",
      "  sound_vel = col_double(),\n",
      "  ext_temp = col_double()\n",
      ")\n"
     ]
    },
    {
     "name": "stderr",
     "output_type": "stream",
     "text": [
      "Warning message:\n",
      "\"11 parsing failures.\n",
      "  row       col               expected actual                                          file\n",
      "10178 int_temp  no trailing characters        'data/SBE45-TSG-MSG_20210712-000001_NEW2.Raw'\n",
      "14834 ext_temp  no trailing characters        'data/SBE45-TSG-MSG_20210712-000001_NEW2.Raw'\n",
      "20434 sound_vel a double                      'data/SBE45-TSG-MSG_20210712-000001_NEW2.Raw'\n",
      "33849 sound_vel no trailing characters        'data/SBE45-TSG-MSG_20210712-000001_NEW2.Raw'\n",
      "34262 sound_vel a double                      'data/SBE45-TSG-MSG_20210712-000001_NEW2.Raw'\n",
      "..... ......... ...................... ...... .............................................\n",
      "See problems(...) for more details.\n",
      "\""
     ]
    },
    {
     "name": "stderr",
     "output_type": "stream",
     "text": [
      "Parsed with column specification:\n",
      "cols(\n",
      "  date = col_character(),\n",
      "  time = col_time(format = \"\"),\n",
      "  int_temp = col_double(),\n",
      "  conductivity = col_double(),\n",
      "  salinity = col_double(),\n",
      "  sound_vel = col_double(),\n",
      "  ext_temp = col_double()\n",
      ")\n"
     ]
    },
    {
     "name": "stderr",
     "output_type": "stream",
     "text": [
      "Warning message:\n",
      "\"24 parsing failures.\n",
      "  row       col               expected actual                                          file\n",
      " 7156 sound_vel no trailing characters        'data/SBE45-TSG-MSG_20210713-000001_NEW2.Raw'\n",
      " 8669 ext_temp  a double                   t2 'data/SBE45-TSG-MSG_20210713-000001_NEW2.Raw'\n",
      "11581 sound_vel no trailing characters        'data/SBE45-TSG-MSG_20210713-000001_NEW2.Raw'\n",
      "12206 ext_temp  no trailing characters        'data/SBE45-TSG-MSG_20210713-000001_NEW2.Raw'\n",
      "15992 salinity  no trailing characters        'data/SBE45-TSG-MSG_20210713-000001_NEW2.Raw'\n",
      "..... ......... ...................... ...... .............................................\n",
      "See problems(...) for more details.\n",
      "\""
     ]
    },
    {
     "name": "stderr",
     "output_type": "stream",
     "text": [
      "Parsed with column specification:\n",
      "cols(\n",
      "  date = col_character(),\n",
      "  time = col_time(format = \"\"),\n",
      "  int_temp = col_double(),\n",
      "  conductivity = col_double(),\n",
      "  salinity = col_character(),\n",
      "  sound_vel = col_double(),\n",
      "  ext_temp = col_double()\n",
      ")\n"
     ]
    },
    {
     "name": "stderr",
     "output_type": "stream",
     "text": [
      "Warning message:\n",
      "\"50 parsing failures.\n",
      " row          col               expected        actual                                          file\n",
      "  50 conductivity a double                             'data/SBE45-TSG-MSG_20210714-000001_NEW2.Raw'\n",
      "  50 salinity                            embedded null 'data/SBE45-TSG-MSG_20210714-000001_NEW2.Raw'\n",
      "5210 sound_vel    no trailing characters               'data/SBE45-TSG-MSG_20210714-000001_NEW2.Raw'\n",
      "5981 conductivity no trailing characters               'data/SBE45-TSG-MSG_20210714-000001_NEW2.Raw'\n",
      "8844 sound_vel    a double                             'data/SBE45-TSG-MSG_20210714-000001_NEW2.Raw'\n",
      ".... ............ ...................... ............. .............................................\n",
      "See problems(...) for more details.\n",
      "\""
     ]
    },
    {
     "name": "stderr",
     "output_type": "stream",
     "text": [
      "Parsed with column specification:\n",
      "cols(\n",
      "  date = col_character(),\n",
      "  time = col_time(format = \"\"),\n",
      "  int_temp = col_double(),\n",
      "  conductivity = col_double(),\n",
      "  salinity = col_double(),\n",
      "  sound_vel = col_double(),\n",
      "  ext_temp = col_double()\n",
      ")\n"
     ]
    },
    {
     "name": "stderr",
     "output_type": "stream",
     "text": [
      "Warning message:\n",
      "\"44 parsing failures.\n",
      " row       col               expected actual                                          file\n",
      "3178 ext_temp  no trailing characters        'data/SBE45-TSG-MSG_20210715-000001_NEW2.Raw'\n",
      "5414 ext_temp  no trailing characters        'data/SBE45-TSG-MSG_20210715-000001_NEW2.Raw'\n",
      "5949 salinity  a double                    s 'data/SBE45-TSG-MSG_20210715-000001_NEW2.Raw'\n",
      "7388 sound_vel no trailing characters        'data/SBE45-TSG-MSG_20210715-000001_NEW2.Raw'\n",
      "8179 sound_vel a double                      'data/SBE45-TSG-MSG_20210715-000001_NEW2.Raw'\n",
      ".... ......... ...................... ...... .............................................\n",
      "See problems(...) for more details.\n",
      "\""
     ]
    },
    {
     "name": "stderr",
     "output_type": "stream",
     "text": [
      "Parsed with column specification:\n",
      "cols(\n",
      "  date = col_character(),\n",
      "  time = col_time(format = \"\"),\n",
      "  int_temp = col_double(),\n",
      "  conductivity = col_double(),\n",
      "  salinity = col_double(),\n",
      "  sound_vel = col_double(),\n",
      "  ext_temp = col_double()\n",
      ")\n"
     ]
    },
    {
     "name": "stderr",
     "output_type": "stream",
     "text": [
      "Warning message:\n",
      "\"49 parsing failures.\n",
      " row          col               expected actual                                          file\n",
      " 136 sound_vel    no trailing characters        'data/SBE45-TSG-MSG_20210716-000001_NEW2.Raw'\n",
      "3772 ext_temp     no trailing characters        'data/SBE45-TSG-MSG_20210716-000001_NEW2.Raw'\n",
      "3793 ext_temp     no trailing characters        'data/SBE45-TSG-MSG_20210716-000001_NEW2.Raw'\n",
      "7791 conductivity no trailing characters        'data/SBE45-TSG-MSG_20210716-000001_NEW2.Raw'\n",
      "7791 salinity     no trailing characters        'data/SBE45-TSG-MSG_20210716-000001_NEW2.Raw'\n",
      ".... ............ ...................... ...... .............................................\n",
      "See problems(...) for more details.\n",
      "\""
     ]
    },
    {
     "name": "stderr",
     "output_type": "stream",
     "text": [
      "Parsed with column specification:\n",
      "cols(\n",
      "  date = col_character(),\n",
      "  time = col_time(format = \"\"),\n",
      "  int_temp = col_double(),\n",
      "  conductivity = col_double(),\n",
      "  salinity = col_double(),\n",
      "  sound_vel = col_double(),\n",
      "  ext_temp = col_double()\n",
      ")\n"
     ]
    },
    {
     "name": "stderr",
     "output_type": "stream",
     "text": [
      "Warning message:\n",
      "\"54 parsing failures.\n",
      " row       col               expected actual                                          file\n",
      "3966 sound_vel no trailing characters        'data/SBE45-TSG-MSG_20210717-000001_NEW2.Raw'\n",
      "3966 ext_temp  a double                      'data/SBE45-TSG-MSG_20210717-000001_NEW2.Raw'\n",
      "9249 sound_vel no trailing characters        'data/SBE45-TSG-MSG_20210717-000001_NEW2.Raw'\n",
      "9411 ext_temp  no trailing characters        'data/SBE45-TSG-MSG_20210717-000001_NEW2.Raw'\n",
      "9551 sound_vel a double                      'data/SBE45-TSG-MSG_20210717-000001_NEW2.Raw'\n",
      ".... ......... ...................... ...... .............................................\n",
      "See problems(...) for more details.\n",
      "\""
     ]
    },
    {
     "name": "stderr",
     "output_type": "stream",
     "text": [
      "Parsed with column specification:\n",
      "cols(\n",
      "  date = col_character(),\n",
      "  time = col_time(format = \"\"),\n",
      "  int_temp = col_double(),\n",
      "  conductivity = col_double(),\n",
      "  salinity = col_double(),\n",
      "  sound_vel = col_double(),\n",
      "  ext_temp = col_double()\n",
      ")\n"
     ]
    },
    {
     "name": "stderr",
     "output_type": "stream",
     "text": [
      "Warning message:\n",
      "\"64 parsing failures.\n",
      " row          col               expected actual                                          file\n",
      "1086 salinity     no trailing characters        'data/SBE45-TSG-MSG_20210718-000001_NEW2.Raw'\n",
      "4350 ext_temp     no trailing characters        'data/SBE45-TSG-MSG_20210718-000001_NEW2.Raw'\n",
      "4441 sound_vel    no trailing characters        'data/SBE45-TSG-MSG_20210718-000001_NEW2.Raw'\n",
      "7063 conductivity no trailing characters        'data/SBE45-TSG-MSG_20210718-000001_NEW2.Raw'\n",
      "7063 salinity     no trailing characters        'data/SBE45-TSG-MSG_20210718-000001_NEW2.Raw'\n",
      ".... ............ ...................... ...... .............................................\n",
      "See problems(...) for more details.\n",
      "\""
     ]
    },
    {
     "name": "stderr",
     "output_type": "stream",
     "text": [
      "Parsed with column specification:\n",
      "cols(\n",
      "  date = col_character(),\n",
      "  time = col_time(format = \"\"),\n",
      "  int_temp = col_double(),\n",
      "  conductivity = col_double(),\n",
      "  salinity = col_double(),\n",
      "  sound_vel = col_double(),\n",
      "  ext_temp = col_double()\n",
      ")\n"
     ]
    },
    {
     "name": "stderr",
     "output_type": "stream",
     "text": [
      "Warning message:\n",
      "\"67 parsing failures.\n",
      " row          col               expected actual                                          file\n",
      " 754 conductivity a double                      'data/SBE45-TSG-MSG_20210719-000001_NEW2.Raw'\n",
      "3167 ext_temp     a double                      'data/SBE45-TSG-MSG_20210719-000001_NEW2.Raw'\n",
      "3239 ext_temp     a double                      'data/SBE45-TSG-MSG_20210719-000001_NEW2.Raw'\n",
      "3720 conductivity no trailing characters        'data/SBE45-TSG-MSG_20210719-000001_NEW2.Raw'\n",
      "3720 salinity     a double                    s 'data/SBE45-TSG-MSG_20210719-000001_NEW2.Raw'\n",
      ".... ............ ...................... ...... .............................................\n",
      "See problems(...) for more details.\n",
      "\""
     ]
    },
    {
     "name": "stderr",
     "output_type": "stream",
     "text": [
      "Parsed with column specification:\n",
      "cols(\n",
      "  date = col_character(),\n",
      "  time = col_time(format = \"\"),\n",
      "  int_temp = col_double(),\n",
      "  conductivity = col_double(),\n",
      "  salinity = col_double(),\n",
      "  sound_vel = col_double(),\n",
      "  ext_temp = col_double()\n",
      ")\n"
     ]
    },
    {
     "name": "stderr",
     "output_type": "stream",
     "text": [
      "Warning message:\n",
      "\"4 parsing failures.\n",
      "  row          col expected     actual                                          file\n",
      "16579 sound_vel    a double sv1523.425 'data/SBE45-TSG-MSG_20210720-000001_NEW2.Raw'\n",
      "35173 salinity     a double s33.3802   'data/SBE45-TSG-MSG_20210720-000001_NEW2.Raw'\n",
      "38874 conductivity a double c4.63445   'data/SBE45-TSG-MSG_20210720-000001_NEW2.Raw'\n",
      "57103 salinity     a double s33.4234   'data/SBE45-TSG-MSG_20210720-000001_NEW2.Raw'\n",
      "\""
     ]
    },
    {
     "name": "stderr",
     "output_type": "stream",
     "text": [
      "Parsed with column specification:\n",
      "cols(\n",
      "  date = col_character(),\n",
      "  time = col_time(format = \"\"),\n",
      "  int_temp = col_double(),\n",
      "  conductivity = col_double(),\n",
      "  salinity = col_double(),\n",
      "  sound_vel = col_double(),\n",
      "  ext_temp = col_double()\n",
      ")\n"
     ]
    },
    {
     "name": "stderr",
     "output_type": "stream",
     "text": [
      "Warning message:\n",
      "\"67 parsing failures.\n",
      " row       col               expected actual                                          file\n",
      " 206 ext_temp  no trailing characters        'data/SBE45-TSG-MSG_20210721-000001_NEW2.Raw'\n",
      "1382 sound_vel no trailing characters        'data/SBE45-TSG-MSG_20210721-000001_NEW2.Raw'\n",
      "3024 salinity  a double                      'data/SBE45-TSG-MSG_20210721-000001_NEW2.Raw'\n",
      "3116 ext_temp  a double                      'data/SBE45-TSG-MSG_20210721-000001_NEW2.Raw'\n",
      "3859 ext_temp  no trailing characters        'data/SBE45-TSG-MSG_20210721-000001_NEW2.Raw'\n",
      ".... ......... ...................... ...... .............................................\n",
      "See problems(...) for more details.\n",
      "\""
     ]
    },
    {
     "name": "stderr",
     "output_type": "stream",
     "text": [
      "Parsed with column specification:\n",
      "cols(\n",
      "  date = col_character(),\n",
      "  time = col_time(format = \"\"),\n",
      "  int_temp = col_double(),\n",
      "  conductivity = col_double(),\n",
      "  salinity = col_double(),\n",
      "  sound_vel = col_double(),\n",
      "  ext_temp = col_double()\n",
      ")\n"
     ]
    },
    {
     "name": "stderr",
     "output_type": "stream",
     "text": [
      "Warning message:\n",
      "\"130 parsing failures.\n",
      " row       col               expected actual                                          file\n",
      " 467 sound_vel no trailing characters        'data/SBE45-TSG-MSG_20210722-000001_NEW2.Raw'\n",
      " 792 sound_vel no trailing characters        'data/SBE45-TSG-MSG_20210722-000001_NEW2.Raw'\n",
      "2327 ext_temp  no trailing characters        'data/SBE45-TSG-MSG_20210722-000001_NEW2.Raw'\n",
      "2713 salinity  a double                      'data/SBE45-TSG-MSG_20210722-000001_NEW2.Raw'\n",
      "4490 salinity  a double                      'data/SBE45-TSG-MSG_20210722-000001_NEW2.Raw'\n",
      ".... ......... ...................... ...... .............................................\n",
      "See problems(...) for more details.\n",
      "\""
     ]
    },
    {
     "name": "stderr",
     "output_type": "stream",
     "text": [
      "Parsed with column specification:\n",
      "cols(\n",
      "  date = col_character(),\n",
      "  time = col_time(format = \"\"),\n",
      "  int_temp = col_double(),\n",
      "  conductivity = col_character(),\n",
      "  salinity = col_double(),\n",
      "  sound_vel = col_double(),\n",
      "  ext_temp = col_double()\n",
      ")\n"
     ]
    },
    {
     "name": "stderr",
     "output_type": "stream",
     "text": [
      "Warning message:\n",
      "\"127 parsing failures.\n",
      " row          col               expected        actual                                          file\n",
      "  25 conductivity                        embedded null 'data/SBE45-TSG-MSG_20210723-000001_NEW2.Raw'\n",
      " 711 ext_temp     no trailing characters               'data/SBE45-TSG-MSG_20210723-000001_NEW2.Raw'\n",
      "3530 ext_temp     no trailing characters               'data/SBE45-TSG-MSG_20210723-000001_NEW2.Raw'\n",
      "4028 conductivity                        embedded null 'data/SBE45-TSG-MSG_20210723-000001_NEW2.Raw'\n",
      "4360 conductivity                        embedded null 'data/SBE45-TSG-MSG_20210723-000001_NEW2.Raw'\n",
      ".... ............ ...................... ............. .............................................\n",
      "See problems(...) for more details.\n",
      "\""
     ]
    },
    {
     "name": "stderr",
     "output_type": "stream",
     "text": [
      "Parsed with column specification:\n",
      "cols(\n",
      "  date = col_character(),\n",
      "  time = col_time(format = \"\"),\n",
      "  int_temp = col_double(),\n",
      "  conductivity = col_double(),\n",
      "  salinity = col_double(),\n",
      "  sound_vel = col_double(),\n",
      "  ext_temp = col_double()\n",
      ")\n"
     ]
    },
    {
     "name": "stderr",
     "output_type": "stream",
     "text": [
      "Warning message:\n",
      "\"87 parsing failures.\n",
      " row          col               expected actual                                          file\n",
      "3124 ext_temp     a double                      'data/SBE45-TSG-MSG_20210724-000001_NEW2.Raw'\n",
      "5181 ext_temp     a double                      'data/SBE45-TSG-MSG_20210724-000001_NEW2.Raw'\n",
      "7288 salinity     no trailing characters        'data/SBE45-TSG-MSG_20210724-000001_NEW2.Raw'\n",
      "7874 conductivity a double                      'data/SBE45-TSG-MSG_20210724-000001_NEW2.Raw'\n",
      "9082 sound_vel    no trailing characters        'data/SBE45-TSG-MSG_20210724-000001_NEW2.Raw'\n",
      ".... ............ ...................... ...... .............................................\n",
      "See problems(...) for more details.\n",
      "\""
     ]
    },
    {
     "name": "stderr",
     "output_type": "stream",
     "text": [
      "Parsed with column specification:\n",
      "cols(\n",
      "  date = col_character(),\n",
      "  time = col_time(format = \"\"),\n",
      "  int_temp = col_double(),\n",
      "  conductivity = col_double(),\n",
      "  salinity = col_double(),\n",
      "  sound_vel = col_double(),\n",
      "  ext_temp = col_double()\n",
      ")\n"
     ]
    },
    {
     "name": "stderr",
     "output_type": "stream",
     "text": [
      "Warning message:\n",
      "\"101 parsing failures.\n",
      " row          col               expected actual                                          file\n",
      " 278 sound_vel    no trailing characters        'data/SBE45-TSG-MSG_20210725-000001_NEW2.Raw'\n",
      "2096 conductivity no trailing characters        'data/SBE45-TSG-MSG_20210725-000001_NEW2.Raw'\n",
      "3276 ext_temp     no trailing characters        'data/SBE45-TSG-MSG_20210725-000001_NEW2.Raw'\n",
      "3829 salinity     no trailing characters        'data/SBE45-TSG-MSG_20210725-000001_NEW2.Raw'\n",
      "4816 salinity     a double                      'data/SBE45-TSG-MSG_20210725-000001_NEW2.Raw'\n",
      ".... ............ ...................... ...... .............................................\n",
      "See problems(...) for more details.\n",
      "\""
     ]
    },
    {
     "name": "stderr",
     "output_type": "stream",
     "text": [
      "Parsed with column specification:\n",
      "cols(\n",
      "  date = col_character(),\n",
      "  time = col_time(format = \"\"),\n",
      "  int_temp = col_double(),\n",
      "  conductivity = col_double(),\n",
      "  salinity = col_double(),\n",
      "  sound_vel = col_double(),\n",
      "  ext_temp = col_double()\n",
      ")\n"
     ]
    },
    {
     "name": "stderr",
     "output_type": "stream",
     "text": [
      "Warning message:\n",
      "\"8 parsing failures.\n",
      "  row       col  expected    actual                                          file\n",
      " 3868 sound_vel a double  s1524.790 'data/SBE45-TSG-MSG_20210726-000001_NEW2.Raw'\n",
      "12551 sound_vel a double  s1524.221 'data/SBE45-TSG-MSG_20210726-000001_NEW2.Raw'\n",
      "14477 ext_temp  a double  t21.5684  'data/SBE45-TSG-MSG_20210726-000001_NEW2.Raw'\n",
      "21543 sound_vel a double  s1523.382 'data/SBE45-TSG-MSG_20210726-000001_NEW2.Raw'\n",
      "22852 NA        7 columns 3 columns 'data/SBE45-TSG-MSG_20210726-000001_NEW2.Raw'\n",
      "..... ......... ......... ......... .............................................\n",
      "See problems(...) for more details.\n",
      "\""
     ]
    },
    {
     "name": "stderr",
     "output_type": "stream",
     "text": [
      "Parsed with column specification:\n",
      "cols(\n",
      "  date = col_character(),\n",
      "  time = col_time(format = \"\"),\n",
      "  type = col_character(),\n",
      "  diff = col_double(),\n",
      "  ext_temp = col_double(),\n",
      "  int_temp = col_double()\n",
      ")\n"
     ]
    },
    {
     "name": "stderr",
     "output_type": "stream",
     "text": [
      "Warning message:\n",
      "\"15434 parsing failures.\n",
      "row col  expected    actual                                             file\n",
      "  1  -- 6 columns 7 columns 'data/SST-TSG-Temp-Diff-MSG_20210613-181544.Raw'\n",
      "  2  -- 6 columns 7 columns 'data/SST-TSG-Temp-Diff-MSG_20210613-181544.Raw'\n",
      "  3  -- 6 columns 7 columns 'data/SST-TSG-Temp-Diff-MSG_20210613-181544.Raw'\n",
      "  4  -- 6 columns 7 columns 'data/SST-TSG-Temp-Diff-MSG_20210613-181544.Raw'\n",
      "  5  -- 6 columns 7 columns 'data/SST-TSG-Temp-Diff-MSG_20210613-181544.Raw'\n",
      "... ... ......... ......... ................................................\n",
      "See problems(...) for more details.\n",
      "\""
     ]
    },
    {
     "name": "stderr",
     "output_type": "stream",
     "text": [
      "Parsed with column specification:\n",
      "cols(\n",
      "  date = col_character(),\n",
      "  time = col_time(format = \"\"),\n",
      "  type = col_character(),\n",
      "  diff = col_double(),\n",
      "  ext_temp = col_double(),\n",
      "  int_temp = col_double()\n",
      ")\n"
     ]
    },
    {
     "name": "stderr",
     "output_type": "stream",
     "text": [
      "Warning message:\n",
      "\"86147 parsing failures.\n",
      "row col  expected    actual                                             file\n",
      "  1  -- 6 columns 7 columns 'data/SST-TSG-Temp-Diff-MSG_20210614-000001.Raw'\n",
      "  2  -- 6 columns 7 columns 'data/SST-TSG-Temp-Diff-MSG_20210614-000001.Raw'\n",
      "  3  -- 6 columns 7 columns 'data/SST-TSG-Temp-Diff-MSG_20210614-000001.Raw'\n",
      "  4  -- 6 columns 7 columns 'data/SST-TSG-Temp-Diff-MSG_20210614-000001.Raw'\n",
      "  5  -- 6 columns 7 columns 'data/SST-TSG-Temp-Diff-MSG_20210614-000001.Raw'\n",
      "... ... ......... ......... ................................................\n",
      "See problems(...) for more details.\n",
      "\""
     ]
    },
    {
     "name": "stderr",
     "output_type": "stream",
     "text": [
      "Parsed with column specification:\n",
      "cols(\n",
      "  date = col_character(),\n",
      "  time = col_time(format = \"\"),\n",
      "  type = col_character(),\n",
      "  diff = col_double(),\n",
      "  ext_temp = col_double(),\n",
      "  int_temp = col_double()\n",
      ")\n"
     ]
    },
    {
     "name": "stderr",
     "output_type": "stream",
     "text": [
      "Warning message:\n",
      "\"85867 parsing failures.\n",
      "row col  expected    actual                                             file\n",
      "  1  -- 6 columns 7 columns 'data/SST-TSG-Temp-Diff-MSG_20210615-000001.Raw'\n",
      "  2  -- 6 columns 7 columns 'data/SST-TSG-Temp-Diff-MSG_20210615-000001.Raw'\n",
      "  3  -- 6 columns 7 columns 'data/SST-TSG-Temp-Diff-MSG_20210615-000001.Raw'\n",
      "  4  -- 6 columns 7 columns 'data/SST-TSG-Temp-Diff-MSG_20210615-000001.Raw'\n",
      "  5  -- 6 columns 7 columns 'data/SST-TSG-Temp-Diff-MSG_20210615-000001.Raw'\n",
      "... ... ......... ......... ................................................\n",
      "See problems(...) for more details.\n",
      "\""
     ]
    },
    {
     "name": "stderr",
     "output_type": "stream",
     "text": [
      "Parsed with column specification:\n",
      "cols(\n",
      "  date = col_character(),\n",
      "  time = col_time(format = \"\"),\n",
      "  type = col_character(),\n",
      "  diff = col_double(),\n",
      "  ext_temp = col_double(),\n",
      "  int_temp = col_double()\n",
      ")\n"
     ]
    },
    {
     "name": "stderr",
     "output_type": "stream",
     "text": [
      "Warning message:\n",
      "\"85932 parsing failures.\n",
      "row col  expected    actual                                             file\n",
      "  1  -- 6 columns 7 columns 'data/SST-TSG-Temp-Diff-MSG_20210616-000001.Raw'\n",
      "  2  -- 6 columns 7 columns 'data/SST-TSG-Temp-Diff-MSG_20210616-000001.Raw'\n",
      "  3  -- 6 columns 7 columns 'data/SST-TSG-Temp-Diff-MSG_20210616-000001.Raw'\n",
      "  4  -- 6 columns 7 columns 'data/SST-TSG-Temp-Diff-MSG_20210616-000001.Raw'\n",
      "  5  -- 6 columns 7 columns 'data/SST-TSG-Temp-Diff-MSG_20210616-000001.Raw'\n",
      "... ... ......... ......... ................................................\n",
      "See problems(...) for more details.\n",
      "\""
     ]
    },
    {
     "name": "stderr",
     "output_type": "stream",
     "text": [
      "Parsed with column specification:\n",
      "cols(\n",
      "  date = col_character(),\n",
      "  time = col_time(format = \"\"),\n",
      "  type = col_character(),\n",
      "  diff = col_double(),\n",
      "  ext_temp = col_double(),\n",
      "  int_temp = col_double()\n",
      ")\n"
     ]
    },
    {
     "name": "stderr",
     "output_type": "stream",
     "text": [
      "Warning message:\n",
      "\"85730 parsing failures.\n",
      "row col  expected    actual                                             file\n",
      "  1  -- 6 columns 7 columns 'data/SST-TSG-Temp-Diff-MSG_20210617-000001.Raw'\n",
      "  2  -- 6 columns 7 columns 'data/SST-TSG-Temp-Diff-MSG_20210617-000001.Raw'\n",
      "  3  -- 6 columns 7 columns 'data/SST-TSG-Temp-Diff-MSG_20210617-000001.Raw'\n",
      "  4  -- 6 columns 7 columns 'data/SST-TSG-Temp-Diff-MSG_20210617-000001.Raw'\n",
      "  5  -- 6 columns 7 columns 'data/SST-TSG-Temp-Diff-MSG_20210617-000001.Raw'\n",
      "... ... ......... ......... ................................................\n",
      "See problems(...) for more details.\n",
      "\""
     ]
    },
    {
     "name": "stderr",
     "output_type": "stream",
     "text": [
      "Parsed with column specification:\n",
      "cols(\n",
      "  date = col_character(),\n",
      "  time = col_time(format = \"\"),\n",
      "  type = col_character(),\n",
      "  diff = col_double(),\n",
      "  ext_temp = col_double(),\n",
      "  int_temp = col_double()\n",
      ")\n"
     ]
    },
    {
     "name": "stderr",
     "output_type": "stream",
     "text": [
      "Warning message:\n",
      "\"86055 parsing failures.\n",
      "row col  expected    actual                                             file\n",
      "  1  -- 6 columns 7 columns 'data/SST-TSG-Temp-Diff-MSG_20210618-000001.Raw'\n",
      "  2  -- 6 columns 7 columns 'data/SST-TSG-Temp-Diff-MSG_20210618-000001.Raw'\n",
      "  3  -- 6 columns 7 columns 'data/SST-TSG-Temp-Diff-MSG_20210618-000001.Raw'\n",
      "  4  -- 6 columns 7 columns 'data/SST-TSG-Temp-Diff-MSG_20210618-000001.Raw'\n",
      "  5  -- 6 columns 7 columns 'data/SST-TSG-Temp-Diff-MSG_20210618-000001.Raw'\n",
      "... ... ......... ......... ................................................\n",
      "See problems(...) for more details.\n",
      "\""
     ]
    },
    {
     "name": "stderr",
     "output_type": "stream",
     "text": [
      "Parsed with column specification:\n",
      "cols(\n",
      "  date = col_character(),\n",
      "  time = col_time(format = \"\"),\n",
      "  type = col_character(),\n",
      "  diff = col_double(),\n",
      "  ext_temp = col_double(),\n",
      "  int_temp = col_double()\n",
      ")\n"
     ]
    },
    {
     "name": "stderr",
     "output_type": "stream",
     "text": [
      "Warning message:\n",
      "\"85679 parsing failures.\n",
      "row col  expected    actual                                             file\n",
      "  1  -- 6 columns 7 columns 'data/SST-TSG-Temp-Diff-MSG_20210619-000001.Raw'\n",
      "  2  -- 6 columns 7 columns 'data/SST-TSG-Temp-Diff-MSG_20210619-000001.Raw'\n",
      "  3  -- 6 columns 7 columns 'data/SST-TSG-Temp-Diff-MSG_20210619-000001.Raw'\n",
      "  4  -- 6 columns 7 columns 'data/SST-TSG-Temp-Diff-MSG_20210619-000001.Raw'\n",
      "  5  -- 6 columns 7 columns 'data/SST-TSG-Temp-Diff-MSG_20210619-000001.Raw'\n",
      "... ... ......... ......... ................................................\n",
      "See problems(...) for more details.\n",
      "\""
     ]
    },
    {
     "name": "stderr",
     "output_type": "stream",
     "text": [
      "Parsed with column specification:\n",
      "cols(\n",
      "  date = col_character(),\n",
      "  time = col_time(format = \"\"),\n",
      "  type = col_character(),\n",
      "  diff = col_double(),\n",
      "  ext_temp = col_double(),\n",
      "  int_temp = col_double()\n",
      ")\n"
     ]
    },
    {
     "name": "stderr",
     "output_type": "stream",
     "text": [
      "Warning message:\n",
      "\"85773 parsing failures.\n",
      "row col  expected    actual                                             file\n",
      "  1  -- 6 columns 7 columns 'data/SST-TSG-Temp-Diff-MSG_20210620-000001.Raw'\n",
      "  2  -- 6 columns 7 columns 'data/SST-TSG-Temp-Diff-MSG_20210620-000001.Raw'\n",
      "  3  -- 6 columns 7 columns 'data/SST-TSG-Temp-Diff-MSG_20210620-000001.Raw'\n",
      "  4  -- 6 columns 7 columns 'data/SST-TSG-Temp-Diff-MSG_20210620-000001.Raw'\n",
      "  5  -- 6 columns 7 columns 'data/SST-TSG-Temp-Diff-MSG_20210620-000001.Raw'\n",
      "... ... ......... ......... ................................................\n",
      "See problems(...) for more details.\n",
      "\""
     ]
    },
    {
     "name": "stderr",
     "output_type": "stream",
     "text": [
      "Parsed with column specification:\n",
      "cols(\n",
      "  date = col_character(),\n",
      "  time = col_time(format = \"\"),\n",
      "  type = col_character(),\n",
      "  diff = col_double(),\n",
      "  ext_temp = col_double(),\n",
      "  int_temp = col_double()\n",
      ")\n"
     ]
    },
    {
     "name": "stderr",
     "output_type": "stream",
     "text": [
      "Warning message:\n",
      "\"85833 parsing failures.\n",
      "row col  expected    actual                                             file\n",
      "  1  -- 6 columns 7 columns 'data/SST-TSG-Temp-Diff-MSG_20210621-000001.Raw'\n",
      "  2  -- 6 columns 7 columns 'data/SST-TSG-Temp-Diff-MSG_20210621-000001.Raw'\n",
      "  3  -- 6 columns 7 columns 'data/SST-TSG-Temp-Diff-MSG_20210621-000001.Raw'\n",
      "  4  -- 6 columns 7 columns 'data/SST-TSG-Temp-Diff-MSG_20210621-000001.Raw'\n",
      "  5  -- 6 columns 7 columns 'data/SST-TSG-Temp-Diff-MSG_20210621-000001.Raw'\n",
      "... ... ......... ......... ................................................\n",
      "See problems(...) for more details.\n",
      "\""
     ]
    },
    {
     "name": "stderr",
     "output_type": "stream",
     "text": [
      "Parsed with column specification:\n",
      "cols(\n",
      "  date = col_character(),\n",
      "  time = col_time(format = \"\"),\n",
      "  type = col_character(),\n",
      "  diff = col_double(),\n",
      "  ext_temp = col_double(),\n",
      "  int_temp = col_double()\n",
      ")\n"
     ]
    },
    {
     "name": "stderr",
     "output_type": "stream",
     "text": [
      "Warning message:\n",
      "\"85624 parsing failures.\n",
      "row col  expected    actual                                             file\n",
      "  1  -- 6 columns 7 columns 'data/SST-TSG-Temp-Diff-MSG_20210622-000001.Raw'\n",
      "  2  -- 6 columns 7 columns 'data/SST-TSG-Temp-Diff-MSG_20210622-000001.Raw'\n",
      "  3  -- 6 columns 7 columns 'data/SST-TSG-Temp-Diff-MSG_20210622-000001.Raw'\n",
      "  4  -- 6 columns 7 columns 'data/SST-TSG-Temp-Diff-MSG_20210622-000001.Raw'\n",
      "  5  -- 6 columns 7 columns 'data/SST-TSG-Temp-Diff-MSG_20210622-000001.Raw'\n",
      "... ... ......... ......... ................................................\n",
      "See problems(...) for more details.\n",
      "\""
     ]
    },
    {
     "name": "stderr",
     "output_type": "stream",
     "text": [
      "Parsed with column specification:\n",
      "cols(\n",
      "  date = col_character(),\n",
      "  time = col_time(format = \"\"),\n",
      "  type = col_character(),\n",
      "  diff = col_double(),\n",
      "  ext_temp = col_double(),\n",
      "  int_temp = col_double()\n",
      ")\n"
     ]
    },
    {
     "name": "stderr",
     "output_type": "stream",
     "text": [
      "Warning message:\n",
      "\"85578 parsing failures.\n",
      "row col  expected    actual                                             file\n",
      "  1  -- 6 columns 7 columns 'data/SST-TSG-Temp-Diff-MSG_20210623-000001.Raw'\n",
      "  2  -- 6 columns 7 columns 'data/SST-TSG-Temp-Diff-MSG_20210623-000001.Raw'\n",
      "  3  -- 6 columns 7 columns 'data/SST-TSG-Temp-Diff-MSG_20210623-000001.Raw'\n",
      "  4  -- 6 columns 7 columns 'data/SST-TSG-Temp-Diff-MSG_20210623-000001.Raw'\n",
      "  5  -- 6 columns 7 columns 'data/SST-TSG-Temp-Diff-MSG_20210623-000001.Raw'\n",
      "... ... ......... ......... ................................................\n",
      "See problems(...) for more details.\n",
      "\""
     ]
    },
    {
     "name": "stderr",
     "output_type": "stream",
     "text": [
      "Parsed with column specification:\n",
      "cols(\n",
      "  date = col_character(),\n",
      "  time = col_time(format = \"\"),\n",
      "  type = col_character(),\n",
      "  diff = col_double(),\n",
      "  ext_temp = col_double(),\n",
      "  int_temp = col_double()\n",
      ")\n"
     ]
    },
    {
     "name": "stderr",
     "output_type": "stream",
     "text": [
      "Warning message:\n",
      "\"85615 parsing failures.\n",
      "row col  expected    actual                                             file\n",
      "  1  -- 6 columns 7 columns 'data/SST-TSG-Temp-Diff-MSG_20210624-000001.Raw'\n",
      "  2  -- 6 columns 7 columns 'data/SST-TSG-Temp-Diff-MSG_20210624-000001.Raw'\n",
      "  3  -- 6 columns 7 columns 'data/SST-TSG-Temp-Diff-MSG_20210624-000001.Raw'\n",
      "  4  -- 6 columns 7 columns 'data/SST-TSG-Temp-Diff-MSG_20210624-000001.Raw'\n",
      "  5  -- 6 columns 7 columns 'data/SST-TSG-Temp-Diff-MSG_20210624-000001.Raw'\n",
      "... ... ......... ......... ................................................\n",
      "See problems(...) for more details.\n",
      "\""
     ]
    },
    {
     "name": "stderr",
     "output_type": "stream",
     "text": [
      "Parsed with column specification:\n",
      "cols(\n",
      "  date = col_character(),\n",
      "  time = col_time(format = \"\"),\n",
      "  type = col_character(),\n",
      "  diff = col_double(),\n",
      "  ext_temp = col_double(),\n",
      "  int_temp = col_double()\n",
      ")\n"
     ]
    },
    {
     "name": "stderr",
     "output_type": "stream",
     "text": [
      "Warning message:\n",
      "\"85949 parsing failures.\n",
      "row col  expected    actual                                             file\n",
      "  1  -- 6 columns 7 columns 'data/SST-TSG-Temp-Diff-MSG_20210625-000001.Raw'\n",
      "  2  -- 6 columns 7 columns 'data/SST-TSG-Temp-Diff-MSG_20210625-000001.Raw'\n",
      "  3  -- 6 columns 7 columns 'data/SST-TSG-Temp-Diff-MSG_20210625-000001.Raw'\n",
      "  4  -- 6 columns 7 columns 'data/SST-TSG-Temp-Diff-MSG_20210625-000001.Raw'\n",
      "  5  -- 6 columns 7 columns 'data/SST-TSG-Temp-Diff-MSG_20210625-000001.Raw'\n",
      "... ... ......... ......... ................................................\n",
      "See problems(...) for more details.\n",
      "\""
     ]
    },
    {
     "name": "stderr",
     "output_type": "stream",
     "text": [
      "Parsed with column specification:\n",
      "cols(\n",
      "  date = col_character(),\n",
      "  time = col_time(format = \"\"),\n",
      "  type = col_character(),\n",
      "  diff = col_double(),\n",
      "  ext_temp = col_double(),\n",
      "  int_temp = col_double()\n",
      ")\n"
     ]
    },
    {
     "name": "stderr",
     "output_type": "stream",
     "text": [
      "Warning message:\n",
      "\"85913 parsing failures.\n",
      "row col  expected    actual                                             file\n",
      "  1  -- 6 columns 7 columns 'data/SST-TSG-Temp-Diff-MSG_20210626-000001.Raw'\n",
      "  2  -- 6 columns 7 columns 'data/SST-TSG-Temp-Diff-MSG_20210626-000001.Raw'\n",
      "  3  -- 6 columns 7 columns 'data/SST-TSG-Temp-Diff-MSG_20210626-000001.Raw'\n",
      "  4  -- 6 columns 7 columns 'data/SST-TSG-Temp-Diff-MSG_20210626-000001.Raw'\n",
      "  5  -- 6 columns 7 columns 'data/SST-TSG-Temp-Diff-MSG_20210626-000001.Raw'\n",
      "... ... ......... ......... ................................................\n",
      "See problems(...) for more details.\n",
      "\""
     ]
    },
    {
     "name": "stderr",
     "output_type": "stream",
     "text": [
      "Parsed with column specification:\n",
      "cols(\n",
      "  date = col_character(),\n",
      "  time = col_time(format = \"\"),\n",
      "  type = col_character(),\n",
      "  diff = col_double(),\n",
      "  ext_temp = col_double(),\n",
      "  int_temp = col_double()\n",
      ")\n"
     ]
    },
    {
     "name": "stderr",
     "output_type": "stream",
     "text": [
      "Warning message:\n",
      "\"85154 parsing failures.\n",
      "row col  expected    actual                                             file\n",
      "  1  -- 6 columns 7 columns 'data/SST-TSG-Temp-Diff-MSG_20210627-000001.Raw'\n",
      "  2  -- 6 columns 7 columns 'data/SST-TSG-Temp-Diff-MSG_20210627-000001.Raw'\n",
      "  3  -- 6 columns 7 columns 'data/SST-TSG-Temp-Diff-MSG_20210627-000001.Raw'\n",
      "  4  -- 6 columns 7 columns 'data/SST-TSG-Temp-Diff-MSG_20210627-000001.Raw'\n",
      "  5  -- 6 columns 7 columns 'data/SST-TSG-Temp-Diff-MSG_20210627-000001.Raw'\n",
      "... ... ......... ......... ................................................\n",
      "See problems(...) for more details.\n",
      "\""
     ]
    },
    {
     "name": "stderr",
     "output_type": "stream",
     "text": [
      "Parsed with column specification:\n",
      "cols(\n",
      "  date = col_character(),\n",
      "  time = col_time(format = \"\"),\n",
      "  type = col_character(),\n",
      "  diff = col_double(),\n",
      "  ext_temp = col_double(),\n",
      "  int_temp = col_double()\n",
      ")\n"
     ]
    },
    {
     "name": "stderr",
     "output_type": "stream",
     "text": [
      "Warning message:\n",
      "\"85681 parsing failures.\n",
      "row col  expected    actual                                             file\n",
      "  1  -- 6 columns 7 columns 'data/SST-TSG-Temp-Diff-MSG_20210628-000001.Raw'\n",
      "  2  -- 6 columns 7 columns 'data/SST-TSG-Temp-Diff-MSG_20210628-000001.Raw'\n",
      "  3  -- 6 columns 7 columns 'data/SST-TSG-Temp-Diff-MSG_20210628-000001.Raw'\n",
      "  4  -- 6 columns 7 columns 'data/SST-TSG-Temp-Diff-MSG_20210628-000001.Raw'\n",
      "  5  -- 6 columns 7 columns 'data/SST-TSG-Temp-Diff-MSG_20210628-000001.Raw'\n",
      "... ... ......... ......... ................................................\n",
      "See problems(...) for more details.\n",
      "\""
     ]
    },
    {
     "name": "stderr",
     "output_type": "stream",
     "text": [
      "Parsed with column specification:\n",
      "cols(\n",
      "  date = col_character(),\n",
      "  time = col_time(format = \"\"),\n",
      "  type = col_character(),\n",
      "  diff = col_double(),\n",
      "  ext_temp = col_double(),\n",
      "  int_temp = col_double()\n",
      ")\n"
     ]
    },
    {
     "name": "stderr",
     "output_type": "stream",
     "text": [
      "Warning message:\n",
      "\"85503 parsing failures.\n",
      "row col  expected    actual                                             file\n",
      "  1  -- 6 columns 7 columns 'data/SST-TSG-Temp-Diff-MSG_20210629-000001.Raw'\n",
      "  2  -- 6 columns 7 columns 'data/SST-TSG-Temp-Diff-MSG_20210629-000001.Raw'\n",
      "  3  -- 6 columns 7 columns 'data/SST-TSG-Temp-Diff-MSG_20210629-000001.Raw'\n",
      "  4  -- 6 columns 7 columns 'data/SST-TSG-Temp-Diff-MSG_20210629-000001.Raw'\n",
      "  5  -- 6 columns 7 columns 'data/SST-TSG-Temp-Diff-MSG_20210629-000001.Raw'\n",
      "... ... ......... ......... ................................................\n",
      "See problems(...) for more details.\n",
      "\""
     ]
    },
    {
     "name": "stderr",
     "output_type": "stream",
     "text": [
      "Parsed with column specification:\n",
      "cols(\n",
      "  date = col_character(),\n",
      "  time = col_time(format = \"\"),\n",
      "  type = col_character(),\n",
      "  diff = col_double(),\n",
      "  ext_temp = col_double(),\n",
      "  int_temp = col_double()\n",
      ")\n"
     ]
    },
    {
     "name": "stderr",
     "output_type": "stream",
     "text": [
      "Warning message:\n",
      "\"85201 parsing failures.\n",
      "row col  expected    actual                                             file\n",
      "  1  -- 6 columns 7 columns 'data/SST-TSG-Temp-Diff-MSG_20210630-000001.Raw'\n",
      "  2  -- 6 columns 7 columns 'data/SST-TSG-Temp-Diff-MSG_20210630-000001.Raw'\n",
      "  3  -- 6 columns 7 columns 'data/SST-TSG-Temp-Diff-MSG_20210630-000001.Raw'\n",
      "  4  -- 6 columns 7 columns 'data/SST-TSG-Temp-Diff-MSG_20210630-000001.Raw'\n",
      "  5  -- 6 columns 7 columns 'data/SST-TSG-Temp-Diff-MSG_20210630-000001.Raw'\n",
      "... ... ......... ......... ................................................\n",
      "See problems(...) for more details.\n",
      "\""
     ]
    },
    {
     "name": "stderr",
     "output_type": "stream",
     "text": [
      "Parsed with column specification:\n",
      "cols(\n",
      "  date = col_character(),\n",
      "  time = col_time(format = \"\"),\n",
      "  type = col_character(),\n",
      "  diff = col_double(),\n",
      "  ext_temp = col_double(),\n",
      "  int_temp = col_double()\n",
      ")\n"
     ]
    },
    {
     "name": "stderr",
     "output_type": "stream",
     "text": [
      "Warning message:\n",
      "\"85048 parsing failures.\n",
      "row col  expected    actual                                             file\n",
      "  1  -- 6 columns 7 columns 'data/SST-TSG-Temp-Diff-MSG_20210701-000001.Raw'\n",
      "  2  -- 6 columns 7 columns 'data/SST-TSG-Temp-Diff-MSG_20210701-000001.Raw'\n",
      "  3  -- 6 columns 7 columns 'data/SST-TSG-Temp-Diff-MSG_20210701-000001.Raw'\n",
      "  4  -- 6 columns 7 columns 'data/SST-TSG-Temp-Diff-MSG_20210701-000001.Raw'\n",
      "  5  -- 6 columns 7 columns 'data/SST-TSG-Temp-Diff-MSG_20210701-000001.Raw'\n",
      "... ... ......... ......... ................................................\n",
      "See problems(...) for more details.\n",
      "\""
     ]
    },
    {
     "name": "stderr",
     "output_type": "stream",
     "text": [
      "Parsed with column specification:\n",
      "cols(\n",
      "  date = col_character(),\n",
      "  time = col_time(format = \"\"),\n",
      "  type = col_character(),\n",
      "  diff = col_double(),\n",
      "  ext_temp = col_double(),\n",
      "  int_temp = col_double()\n",
      ")\n"
     ]
    },
    {
     "name": "stderr",
     "output_type": "stream",
     "text": [
      "Warning message:\n",
      "\"84938 parsing failures.\n",
      "row col  expected    actual                                             file\n",
      "  1  -- 6 columns 7 columns 'data/SST-TSG-Temp-Diff-MSG_20210702-000001.Raw'\n",
      "  2  -- 6 columns 7 columns 'data/SST-TSG-Temp-Diff-MSG_20210702-000001.Raw'\n",
      "  3  -- 6 columns 7 columns 'data/SST-TSG-Temp-Diff-MSG_20210702-000001.Raw'\n",
      "  4  -- 6 columns 7 columns 'data/SST-TSG-Temp-Diff-MSG_20210702-000001.Raw'\n",
      "  5  -- 6 columns 7 columns 'data/SST-TSG-Temp-Diff-MSG_20210702-000001.Raw'\n",
      "... ... ......... ......... ................................................\n",
      "See problems(...) for more details.\n",
      "\""
     ]
    },
    {
     "name": "stderr",
     "output_type": "stream",
     "text": [
      "Parsed with column specification:\n",
      "cols(\n",
      "  date = col_character(),\n",
      "  time = col_time(format = \"\"),\n",
      "  type = col_character(),\n",
      "  diff = col_double(),\n",
      "  ext_temp = col_double(),\n",
      "  int_temp = col_double()\n",
      ")\n"
     ]
    },
    {
     "name": "stderr",
     "output_type": "stream",
     "text": [
      "Warning message:\n",
      "\"24054 parsing failures.\n",
      "row col  expected    actual                                             file\n",
      "  1  -- 6 columns 7 columns 'data/SST-TSG-Temp-Diff-MSG_20210703-000001.Raw'\n",
      "  2  -- 6 columns 7 columns 'data/SST-TSG-Temp-Diff-MSG_20210703-000001.Raw'\n",
      "  3  -- 6 columns 7 columns 'data/SST-TSG-Temp-Diff-MSG_20210703-000001.Raw'\n",
      "  4  -- 6 columns 7 columns 'data/SST-TSG-Temp-Diff-MSG_20210703-000001.Raw'\n",
      "  5  -- 6 columns 7 columns 'data/SST-TSG-Temp-Diff-MSG_20210703-000001.Raw'\n",
      "... ... ......... ......... ................................................\n",
      "See problems(...) for more details.\n",
      "\""
     ]
    },
    {
     "name": "stderr",
     "output_type": "stream",
     "text": [
      "Parsed with column specification:\n",
      "cols(\n",
      "  date = col_character(),\n",
      "  time = col_time(format = \"\"),\n",
      "  type = col_character(),\n",
      "  diff = col_double(),\n",
      "  ext_temp = col_double(),\n",
      "  int_temp = col_double()\n",
      ")\n"
     ]
    },
    {
     "name": "stderr",
     "output_type": "stream",
     "text": [
      "Warning message:\n",
      "\"61634 parsing failures.\n",
      "row col  expected    actual                                             file\n",
      "  1  -- 6 columns 7 columns 'data/SST-TSG-Temp-Diff-MSG_20210703-065123.Raw'\n",
      "  2  -- 6 columns 7 columns 'data/SST-TSG-Temp-Diff-MSG_20210703-065123.Raw'\n",
      "  3  -- 6 columns 7 columns 'data/SST-TSG-Temp-Diff-MSG_20210703-065123.Raw'\n",
      "  4  -- 6 columns 7 columns 'data/SST-TSG-Temp-Diff-MSG_20210703-065123.Raw'\n",
      "  5  -- 6 columns 7 columns 'data/SST-TSG-Temp-Diff-MSG_20210703-065123.Raw'\n",
      "... ... ......... ......... ................................................\n",
      "See problems(...) for more details.\n",
      "\""
     ]
    },
    {
     "name": "stderr",
     "output_type": "stream",
     "text": [
      "Parsed with column specification:\n",
      "cols(\n",
      "  date = col_character(),\n",
      "  time = col_time(format = \"\"),\n",
      "  type = col_character(),\n",
      "  diff = col_double(),\n",
      "  ext_temp = col_double(),\n",
      "  int_temp = col_double()\n",
      ")\n"
     ]
    },
    {
     "name": "stderr",
     "output_type": "stream",
     "text": [
      "Warning message:\n",
      "\"86282 parsing failures.\n",
      "row col  expected    actual                                             file\n",
      "  1  -- 6 columns 7 columns 'data/SST-TSG-Temp-Diff-MSG_20210704-000001.Raw'\n",
      "  2  -- 6 columns 7 columns 'data/SST-TSG-Temp-Diff-MSG_20210704-000001.Raw'\n",
      "  3  -- 6 columns 7 columns 'data/SST-TSG-Temp-Diff-MSG_20210704-000001.Raw'\n",
      "  4  -- 6 columns 7 columns 'data/SST-TSG-Temp-Diff-MSG_20210704-000001.Raw'\n",
      "  5  -- 6 columns 7 columns 'data/SST-TSG-Temp-Diff-MSG_20210704-000001.Raw'\n",
      "... ... ......... ......... ................................................\n",
      "See problems(...) for more details.\n",
      "\""
     ]
    },
    {
     "name": "stderr",
     "output_type": "stream",
     "text": [
      "Parsed with column specification:\n",
      "cols(\n",
      "  date = col_character(),\n",
      "  time = col_time(format = \"\"),\n",
      "  type = col_character(),\n",
      "  diff = col_double(),\n",
      "  ext_temp = col_double(),\n",
      "  int_temp = col_double()\n",
      ")\n"
     ]
    },
    {
     "name": "stderr",
     "output_type": "stream",
     "text": [
      "Warning message:\n",
      "\"86279 parsing failures.\n",
      "row col  expected    actual                                             file\n",
      "  1  -- 6 columns 7 columns 'data/SST-TSG-Temp-Diff-MSG_20210705-000001.Raw'\n",
      "  2  -- 6 columns 7 columns 'data/SST-TSG-Temp-Diff-MSG_20210705-000001.Raw'\n",
      "  3  -- 6 columns 7 columns 'data/SST-TSG-Temp-Diff-MSG_20210705-000001.Raw'\n",
      "  4  -- 6 columns 7 columns 'data/SST-TSG-Temp-Diff-MSG_20210705-000001.Raw'\n",
      "  5  -- 6 columns 7 columns 'data/SST-TSG-Temp-Diff-MSG_20210705-000001.Raw'\n",
      "... ... ......... ......... ................................................\n",
      "See problems(...) for more details.\n",
      "\""
     ]
    },
    {
     "name": "stderr",
     "output_type": "stream",
     "text": [
      "Parsed with column specification:\n",
      "cols(\n",
      "  date = col_character(),\n",
      "  time = col_time(format = \"\"),\n",
      "  type = col_character(),\n",
      "  diff = col_double(),\n",
      "  ext_temp = col_double(),\n",
      "  int_temp = col_double()\n",
      ")\n"
     ]
    }
   ],
   "source": [
    "# https://stackoverflow.com/questions/11433432/how-to-import-multiple-csv-files-at-once\n",
    "all_temperature_loaded <- list.files(path = \"data/\",\n",
    "             pattern = \"*.Raw\",\n",
    "             full.names = T) %>%\n",
    "  map_df(~clean_temp_data(.))"
   ]
  },
  {
   "cell_type": "code",
   "execution_count": null,
   "id": "06f37bfe",
   "metadata": {},
   "outputs": [],
   "source": [
    "head(all_temperature_loaded)\n",
    "summary(all_temperature_loaded)"
   ]
  },
  {
   "cell_type": "code",
   "execution_count": null,
   "id": "d86e499b",
   "metadata": {},
   "outputs": [],
   "source": [
    "all_temperature_cleaned <- all_temperature_loaded %>%\n",
    "  filter(!is.na(ext_temp)) %>%\n",
    "  filter(ext_temp > 2) %>%\n",
    "  format_datetime()\n",
    "\n",
    "write_csv(all_temperature_cleaned, \"data/temp_processed.csv\")\n",
    "\n",
    "all_temperature <- group_by(all_temperature_cleaned, datetime) %>%\n",
    "    summarize(mean_ext = mean(ext_temp, na.rm = TRUE))\n",
    "\n",
    "write_csv(all_temperature, \"data/temp_processed_summarized.csv\")"
   ]
  },
  {
   "cell_type": "code",
   "execution_count": null,
   "id": "85a9d378",
   "metadata": {},
   "outputs": [],
   "source": [
    "head(all_temperature)\n",
    "summary(all_temperature)"
   ]
  },
  {
   "cell_type": "markdown",
   "id": "42318622",
   "metadata": {},
   "source": [
    "All of the navigation files will also be cleaned up and summarized in similar manner to the temperature files."
   ]
  },
  {
   "cell_type": "code",
   "execution_count": null,
   "id": "b9bb8260",
   "metadata": {},
   "outputs": [],
   "source": [
    "clean_nav_data <- function(x) {\n",
    "  read <- read_csv(x, \n",
    "                   col_names = c(\n",
    "                     \"date\",\n",
    "                     \"time\",\n",
    "                     \"type\",\n",
    "                     \"time_num\",\n",
    "                     \"lat\",\n",
    "                     \"lat_NS\",\n",
    "                     \"long\",\n",
    "                     \"long_WE\",\n",
    "                     \"gps_quality\",\n",
    "                     \"num_sat_view\",\n",
    "                     \"hort_dil\",\n",
    "                     \"ant_alt\",\n",
    "                     \"ant_alt_unit\",\n",
    "                     \"geoidal\",\n",
    "                     \"geoidal_unit\",\n",
    "                     \"age_diff\",\n",
    "                     \"diff_station\",\n",
    "                     \"checksum\"\n",
    "                   )) %>%\n",
    "    select(date, time, lat, long)\n",
    "    return(read)\n",
    "}"
   ]
  },
  {
   "cell_type": "code",
   "execution_count": null,
   "id": "fef8a3ea",
   "metadata": {},
   "outputs": [],
   "source": [
    "all_nav_loaded <- list.files(path = \"data/nav/\",\n",
    "                      pattern = \"*.Raw\",\n",
    "                      full.names = T) %>%\n",
    "  map_df(~clean_nav_data(.)) "
   ]
  },
  {
   "cell_type": "code",
   "execution_count": null,
   "id": "8fe94d0d",
   "metadata": {},
   "outputs": [],
   "source": [
    "all_nav <- all_nav_loaded %>%\n",
    "    format_datetime() %>%\n",
    "    group_by(datetime) %>%\n",
    "    summarize(mean_lat = mean(lat), mean_long = mean(long)) %>%\n",
    "    mutate(mean_lat = mean_lat/100, mean_long = mean_long/100) %>%\n",
    "    mutate(deg_lat_int = trunc(mean_lat, 0),\n",
    "           deg_long_int = trunc(mean_long, 0)) %>%\n",
    "    mutate(deg_lat_dec = round((mean_lat - deg_lat_int) * 10000),\n",
    "           deg_long_dec = round((mean_long - deg_long_int) * 10000)) %>%\n",
    "    mutate(mean_deg_lat = deg_lat_int + deg_lat_dec/(60 * 100),\n",
    "          mean_deg_long = deg_long_int + deg_long_dec / (60 * 100)) %>%\n",
    "    select(-deg_lat_int, -deg_long_int, -deg_lat_dec, -deg_long_dec)\n",
    "\n",
    "\n",
    "write_csv(all_nav, \"data/nav/nav_processed.csv\")"
   ]
  },
  {
   "cell_type": "code",
   "execution_count": null,
   "id": "06f64b09",
   "metadata": {},
   "outputs": [],
   "source": [
    "head(all_nav)\n",
    "summary(all_nav)"
   ]
  },
  {
   "cell_type": "markdown",
   "id": "97af63a3",
   "metadata": {},
   "source": [
    "Since we have the date and time (by the minute) of both the temperature and it's coordinates, we can match the two variables together."
   ]
  },
  {
   "cell_type": "code",
   "execution_count": null,
   "id": "29a70bad",
   "metadata": {},
   "outputs": [],
   "source": [
    "joined_temp_nav <- inner_join(all_temperature, \n",
    "                             all_nav,\n",
    "                             by = c(\"datetime\" = \"datetime\"))\n",
    "\n",
    "write_csv(joined_temp_nav, \"data/nav_temp_joined_processed.csv\")"
   ]
  },
  {
   "cell_type": "code",
   "execution_count": null,
   "id": "dc453cc4",
   "metadata": {},
   "outputs": [],
   "source": [
    "head(joined_temp_nav)\n",
    "summary(joined_temp_nav)"
   ]
  },
  {
   "cell_type": "markdown",
   "id": "237d7447",
   "metadata": {},
   "source": [
    "## Visualize the Data"
   ]
  },
  {
   "cell_type": "markdown",
   "id": "f135f5ad",
   "metadata": {},
   "source": [
    "Time and mean temperature plotted on a scatterplot to see temperature changes over time. Notice that since the ship moves in 1 way vs time, the shape of the 2D scatterplot and the 3D plot is very similar."
   ]
  },
  {
   "cell_type": "code",
   "execution_count": null,
   "id": "b2d636d5",
   "metadata": {},
   "outputs": [],
   "source": [
    "time_plot <- ggplot(all_temperature, aes(x = datetime, \n",
    "                                         y = mean_ext, \n",
    "                                         colour = mean_ext)) +\n",
    "  geom_point() +\n",
    "  scale_colour_gradient(low = \"blue\", high = \"red\") +\n",
    "  labs(x = \"Date and Time PST\", \n",
    "       y = \"Mean (by the min) Ocean Temperature (celcius)\",\n",
    "       colour = \"Mean External Temperature\")\n",
    "time_plot"
   ]
  },
  {
   "cell_type": "code",
   "execution_count": null,
   "id": "c22fa91c",
   "metadata": {},
   "outputs": [],
   "source": [
    "p<- plot_ly(joined_temp_nav, \n",
    "        x = ~mean_lat, \n",
    "        y = ~mean_long,\n",
    "        z = ~mean_ext,\n",
    "        color = ~mean_ext) %>%\n",
    "  add_markers(size = 0.7)"
   ]
  },
  {
   "cell_type": "code",
   "execution_count": null,
   "id": "160cc79b",
   "metadata": {},
   "outputs": [],
   "source": [
    "embed_notebook(p)"
   ]
  }
 ],
 "metadata": {
  "jupytext": {
   "formats": "ipynb,md:myst",
   "text_representation": {
    "extension": ".md",
    "format_name": "myst",
    "format_version": 0.13,
    "jupytext_version": "1.11.5"
   }
  },
  "kernelspec": {
   "display_name": "R",
   "language": "R",
   "name": "ir"
  },
  "language_info": {
   "codemirror_mode": "r",
   "file_extension": ".r",
   "mimetype": "text/x-r-source",
   "name": "R",
   "pygments_lexer": "r",
   "version": "3.6.1"
  },
  "source_map": [
   13,
   17,
   21,
   25,
   31,
   35,
   46,
   50,
   61,
   69,
   84,
   98,
   107,
   111,
   119,
   124,
   138,
   141,
   145,
   173,
   180,
   198,
   201,
   205,
   213,
   216,
   220,
   224,
   236,
   245
  ]
 },
 "nbformat": 4,
 "nbformat_minor": 5
}