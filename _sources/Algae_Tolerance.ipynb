{
 "cells": [
  {
   "cell_type": "markdown",
   "id": "320ee737",
   "metadata": {},
   "source": [
    "# Algae Temperature Tolerance"
   ]
  },
  {
   "cell_type": "markdown",
   "id": "a28e8254",
   "metadata": {},
   "source": [
    "## Setup"
   ]
  },
  {
   "cell_type": "markdown",
   "id": "921aaa33",
   "metadata": {},
   "source": [
    "Analysis and visualization was done using R and various packages."
   ]
  },
  {
   "cell_type": "code",
   "execution_count": 1,
   "id": "60c6a5d7",
   "metadata": {},
   "outputs": [
    {
     "name": "stderr",
     "output_type": "stream",
     "text": [
      "Registered S3 methods overwritten by 'ggplot2':\n",
      "  method         from \n",
      "  [.quosures     rlang\n",
      "  c.quosures     rlang\n",
      "  print.quosures rlang\n",
      "Registered S3 method overwritten by 'rvest':\n",
      "  method            from\n",
      "  read_xml.response xml2\n",
      "-- Attaching packages --------------------------------------- tidyverse 1.2.1 --\n",
      "v ggplot2 3.1.1       v purrr   0.3.2  \n",
      "v tibble  2.1.1       v dplyr   0.8.0.1\n",
      "v tidyr   0.8.3       v stringr 1.4.0  \n",
      "v readr   1.3.1       v forcats 0.4.0  \n",
      "-- Conflicts ------------------------------------------ tidyverse_conflicts() --\n",
      "x dplyr::filter() masks stats::filter()\n",
      "x dplyr::lag()    masks stats::lag()\n",
      "Warning message:\n",
      "\"package 'cowplot' was built under R version 3.6.3\""
     ]
    }
   ],
   "source": [
    "library(tidyverse)\n",
    "library(ggplot2)\n",
    "library(cowplot)\n",
    "options(repr.plot.width=10, repr.plot.height=6,warn=-1)"
   ]
  },
  {
   "cell_type": "markdown",
   "id": "25e74065",
   "metadata": {},
   "source": [
    "## Reading and Wrangling Data"
   ]
  },
  {
   "cell_type": "markdown",
   "id": "dc2ec733",
   "metadata": {},
   "source": [
    "The entire dataset is found at `\"data/GlobalTherm_upload_02_11_17.csv\"`."
   ]
  },
  {
   "cell_type": "code",
   "execution_count": 2,
   "id": "f164c911",
   "metadata": {},
   "outputs": [
    {
     "name": "stderr",
     "output_type": "stream",
     "text": [
      "Parsed with column specification:\n",
      "cols(\n",
      "  .default = col_double(),\n",
      "  Genus = col_character(),\n",
      "  Species = col_character(),\n",
      "  max_metric = col_character(),\n",
      "  `error measure` = col_character(),\n",
      "  `Multiple measures` = col_character(),\n",
      "  max_metric_2 = col_character(),\n",
      "  error_1 = col_logical(),\n",
      "  `error measure_1` = col_logical(),\n",
      "  max_pretreatment = col_character(),\n",
      "  REF_max = col_character(),\n",
      "  min_metric = col_character(),\n",
      "  error_2 = col_character(),\n",
      "  error_type = col_character(),\n",
      "  `Multiple measures_min` = col_character(),\n",
      "  N_2 = col_logical(),\n",
      "  min_metric_2 = col_character(),\n",
      "  error_3 = col_logical(),\n",
      "  error_type_1 = col_logical(),\n",
      "  min_pretreatment = col_character(),\n",
      "  REF_min = col_character()\n",
      "  # ... with 4 more columns\n",
      ")\n",
      "See spec(...) for full column specifications.\n"
     ]
    }
   ],
   "source": [
    "global_term_data <- read_csv(\"data/GlobalTherm_upload_02_11_17.csv\") %>%\n",
    "    select(Genus, Species, N, Tmax, lat_max, long_max, tmin)"
   ]
  },
  {
   "cell_type": "code",
   "execution_count": 3,
   "id": "79020fe6",
   "metadata": {},
   "outputs": [
    {
     "data": {
      "text/html": [
       "<table>\n",
       "<thead><tr><th scope=col>Genus</th><th scope=col>Species</th><th scope=col>N</th><th scope=col>Tmax</th><th scope=col>lat_max</th><th scope=col>long_max</th><th scope=col>tmin</th></tr></thead>\n",
       "<tbody>\n",
       "\t<tr><td>Prochilodus </td><td>scrofa      </td><td> 10         </td><td>35.7        </td><td>-22.0       </td><td> -43.50     </td><td> 8.23       </td></tr>\n",
       "\t<tr><td>Lepomis     </td><td>gibbosus    </td><td> 24         </td><td>35.1        </td><td> 46.2       </td><td>-119.00     </td><td> 1.70       </td></tr>\n",
       "\t<tr><td>Cyprinodon  </td><td>variegatus  </td><td>100         </td><td>44.2        </td><td> 26.0       </td><td> -97.15     </td><td> 6.90       </td></tr>\n",
       "\t<tr><td>Oncorhynchus</td><td>keta        </td><td> NA         </td><td>23.2        </td><td> 52.0       </td><td>-128.90     </td><td>-0.70       </td></tr>\n",
       "\t<tr><td>Oncorhynchus</td><td>nerka       </td><td> NA         </td><td>21.5        </td><td> 52.0       </td><td>-128.90     </td><td>-0.70       </td></tr>\n",
       "\t<tr><td>Oncorhynchus</td><td>kisutch     </td><td> 60         </td><td>27.5        </td><td> 49.4       </td><td>-123.40     </td><td> 0.00       </td></tr>\n",
       "</tbody>\n",
       "</table>\n"
      ],
      "text/latex": [
       "\\begin{tabular}{r|lllllll}\n",
       " Genus & Species & N & Tmax & lat\\_max & long\\_max & tmin\\\\\n",
       "\\hline\n",
       "\t Prochilodus  & scrofa       &  10          & 35.7         & -22.0        &  -43.50      &  8.23       \\\\\n",
       "\t Lepomis      & gibbosus     &  24          & 35.1         &  46.2        & -119.00      &  1.70       \\\\\n",
       "\t Cyprinodon   & variegatus   & 100          & 44.2         &  26.0        &  -97.15      &  6.90       \\\\\n",
       "\t Oncorhynchus & keta         &  NA          & 23.2         &  52.0        & -128.90      & -0.70       \\\\\n",
       "\t Oncorhynchus & nerka        &  NA          & 21.5         &  52.0        & -128.90      & -0.70       \\\\\n",
       "\t Oncorhynchus & kisutch      &  60          & 27.5         &  49.4        & -123.40      &  0.00       \\\\\n",
       "\\end{tabular}\n"
      ],
      "text/markdown": [
       "\n",
       "| Genus | Species | N | Tmax | lat_max | long_max | tmin |\n",
       "|---|---|---|---|---|---|---|\n",
       "| Prochilodus  | scrofa       |  10          | 35.7         | -22.0        |  -43.50      |  8.23        |\n",
       "| Lepomis      | gibbosus     |  24          | 35.1         |  46.2        | -119.00      |  1.70        |\n",
       "| Cyprinodon   | variegatus   | 100          | 44.2         |  26.0        |  -97.15      |  6.90        |\n",
       "| Oncorhynchus | keta         |  NA          | 23.2         |  52.0        | -128.90      | -0.70        |\n",
       "| Oncorhynchus | nerka        |  NA          | 21.5         |  52.0        | -128.90      | -0.70        |\n",
       "| Oncorhynchus | kisutch      |  60          | 27.5         |  49.4        | -123.40      |  0.00        |\n",
       "\n"
      ],
      "text/plain": [
       "  Genus        Species    N   Tmax lat_max long_max tmin \n",
       "1 Prochilodus  scrofa      10 35.7 -22.0    -43.50   8.23\n",
       "2 Lepomis      gibbosus    24 35.1  46.2   -119.00   1.70\n",
       "3 Cyprinodon   variegatus 100 44.2  26.0    -97.15   6.90\n",
       "4 Oncorhynchus keta        NA 23.2  52.0   -128.90  -0.70\n",
       "5 Oncorhynchus nerka       NA 21.5  52.0   -128.90  -0.70\n",
       "6 Oncorhynchus kisutch     60 27.5  49.4   -123.40   0.00"
      ]
     },
     "metadata": {},
     "output_type": "display_data"
    }
   ],
   "source": [
    "head(global_term_data)"
   ]
  },
  {
   "cell_type": "markdown",
   "id": "21b7dd08",
   "metadata": {},
   "source": [
    "Let's load in the ocean temp data as well. We will need to see for what range of latitude and longitude we will need to filter for. This data was processed and created in the [](./Ocean_Temperature.ipynb) chapter."
   ]
  },
  {
   "cell_type": "code",
   "execution_count": 4,
   "id": "4cdcf561",
   "metadata": {},
   "outputs": [
    {
     "name": "stderr",
     "output_type": "stream",
     "text": [
      "Parsed with column specification:\n",
      "cols(\n",
      "  datetime = col_datetime(format = \"\"),\n",
      "  mean_ext = col_double(),\n",
      "  mean_lat = col_double(),\n",
      "  mean_long = col_double(),\n",
      "  mean_deg_lat = col_double(),\n",
      "  mean_deg_long = col_double()\n",
      ")\n"
     ]
    }
   ],
   "source": [
    "temperature_data <- read_csv(\"data/nav_temp_joined_processed.csv\")"
   ]
  },
  {
   "cell_type": "code",
   "execution_count": 5,
   "id": "501eacff",
   "metadata": {},
   "outputs": [
    {
     "data": {
      "text/plain": [
       "  mean_deg_lat   mean_deg_long      mean_ext     \n",
       " Min.   :31.54   Min.   :117.2   Min.   : 9.618  \n",
       " 1st Qu.:33.74   1st Qu.:120.6   1st Qu.:13.096  \n",
       " Median :37.83   Median :123.4   Median :14.771  \n",
       " Mean   :39.41   Mean   :123.1   Mean   :15.165  \n",
       " 3rd Qu.:45.25   3rd Qu.:125.0   3rd Qu.:16.586  \n",
       " Max.   :52.64   Max.   :130.8   Max.   :24.086  "
      ]
     },
     "metadata": {},
     "output_type": "display_data"
    }
   ],
   "source": [
    "summary(select(temperature_data,mean_deg_lat, mean_deg_long, mean_ext ))"
   ]
  },
  {
   "cell_type": "markdown",
   "id": "562da629",
   "metadata": {},
   "source": [
    "If we round the latitude & longitude by `round_down_min - 1`, and `round_up_max + 1`:\n",
    "\n",
    "- The range for latitude can be summarized as 30 ~ 54. \n",
    "- The range for longitude can be summarized as 116 ~ 132.\n",
    "\n",
    "Then, we can ask for all of the unique genus found within this range."
   ]
  },
  {
   "cell_type": "code",
   "execution_count": 6,
   "id": "b99f4524",
   "metadata": {},
   "outputs": [
    {
     "data": {
      "text/html": [
       "<table>\n",
       "<thead><tr><th scope=col>Genus</th></tr></thead>\n",
       "<tbody>\n",
       "\t<tr><td>Plestiodon   </td></tr>\n",
       "\t<tr><td>Sphenomorphus</td></tr>\n",
       "\t<tr><td>Eremias      </td></tr>\n",
       "\t<tr><td>Takydromus   </td></tr>\n",
       "\t<tr><td>Apodemus     </td></tr>\n",
       "\t<tr><td>Myodes       </td></tr>\n",
       "\t<tr><td>Cricetulus   </td></tr>\n",
       "\t<tr><td>Meriones     </td></tr>\n",
       "</tbody>\n",
       "</table>\n"
      ],
      "text/latex": [
       "\\begin{tabular}{r|l}\n",
       " Genus\\\\\n",
       "\\hline\n",
       "\t Plestiodon   \\\\\n",
       "\t Sphenomorphus\\\\\n",
       "\t Eremias      \\\\\n",
       "\t Takydromus   \\\\\n",
       "\t Apodemus     \\\\\n",
       "\t Myodes       \\\\\n",
       "\t Cricetulus   \\\\\n",
       "\t Meriones     \\\\\n",
       "\\end{tabular}\n"
      ],
      "text/markdown": [
       "\n",
       "| Genus |\n",
       "|---|\n",
       "| Plestiodon    |\n",
       "| Sphenomorphus |\n",
       "| Eremias       |\n",
       "| Takydromus    |\n",
       "| Apodemus      |\n",
       "| Myodes        |\n",
       "| Cricetulus    |\n",
       "| Meriones      |\n",
       "\n"
      ],
      "text/plain": [
       "  Genus        \n",
       "1 Plestiodon   \n",
       "2 Sphenomorphus\n",
       "3 Eremias      \n",
       "4 Takydromus   \n",
       "5 Apodemus     \n",
       "6 Myodes       \n",
       "7 Cricetulus   \n",
       "8 Meriones     "
      ]
     },
     "metadata": {},
     "output_type": "display_data"
    }
   ],
   "source": [
    "filter(global_term_data, between(lat_max, 30, 54), between(long_max, 116, 132)) %>%\n",
    "    distinct(Genus)"
   ]
  },
  {
   "cell_type": "markdown",
   "id": "0696b69b",
   "metadata": {},
   "source": [
    "Unfortunately, the list of genus does not contain any algae. \n",
    "\n",
    "By expanding the range, however..."
   ]
  },
  {
   "cell_type": "code",
   "execution_count": 7,
   "id": "d454f9b9",
   "metadata": {},
   "outputs": [
    {
     "data": {
      "text/html": [
       "<table>\n",
       "<thead><tr><th scope=col>Genus</th></tr></thead>\n",
       "<tbody>\n",
       "\t<tr><td>Engraulis       </td></tr>\n",
       "\t<tr><td>Sardinops       </td></tr>\n",
       "\t<tr><td>Acridotheres    </td></tr>\n",
       "\t<tr><td>Pycnonotus      </td></tr>\n",
       "\t<tr><td>Chondracanthus  </td></tr>\n",
       "\t<tr><td>Paratrechina    </td></tr>\n",
       "\t<tr><td>Pheidole        </td></tr>\n",
       "\t<tr><td>Pristomyrmex    </td></tr>\n",
       "\t<tr><td>Technomyrmex    </td></tr>\n",
       "\t<tr><td>Tetramorium     </td></tr>\n",
       "\t<tr><td>Drosophila      </td></tr>\n",
       "\t<tr><td>Scaptodrosophila</td></tr>\n",
       "\t<tr><td>Plestiodon      </td></tr>\n",
       "\t<tr><td>Takydromus      </td></tr>\n",
       "\t<tr><td>Sphenomorphus   </td></tr>\n",
       "\t<tr><td>Protobothrops   </td></tr>\n",
       "\t<tr><td>Trimeresurus    </td></tr>\n",
       "\t<tr><td>Apodemus        </td></tr>\n",
       "\t<tr><td>Myodes          </td></tr>\n",
       "\t<tr><td>myagropsis      </td></tr>\n",
       "\t<tr><td>Sargassum       </td></tr>\n",
       "</tbody>\n",
       "</table>\n"
      ],
      "text/latex": [
       "\\begin{tabular}{r|l}\n",
       " Genus\\\\\n",
       "\\hline\n",
       "\t Engraulis       \\\\\n",
       "\t Sardinops       \\\\\n",
       "\t Acridotheres    \\\\\n",
       "\t Pycnonotus      \\\\\n",
       "\t Chondracanthus  \\\\\n",
       "\t Paratrechina    \\\\\n",
       "\t Pheidole        \\\\\n",
       "\t Pristomyrmex    \\\\\n",
       "\t Technomyrmex    \\\\\n",
       "\t Tetramorium     \\\\\n",
       "\t Drosophila      \\\\\n",
       "\t Scaptodrosophila\\\\\n",
       "\t Plestiodon      \\\\\n",
       "\t Takydromus      \\\\\n",
       "\t Sphenomorphus   \\\\\n",
       "\t Protobothrops   \\\\\n",
       "\t Trimeresurus    \\\\\n",
       "\t Apodemus        \\\\\n",
       "\t Myodes          \\\\\n",
       "\t myagropsis      \\\\\n",
       "\t Sargassum       \\\\\n",
       "\\end{tabular}\n"
      ],
      "text/markdown": [
       "\n",
       "| Genus |\n",
       "|---|\n",
       "| Engraulis        |\n",
       "| Sardinops        |\n",
       "| Acridotheres     |\n",
       "| Pycnonotus       |\n",
       "| Chondracanthus   |\n",
       "| Paratrechina     |\n",
       "| Pheidole         |\n",
       "| Pristomyrmex     |\n",
       "| Technomyrmex     |\n",
       "| Tetramorium      |\n",
       "| Drosophila       |\n",
       "| Scaptodrosophila |\n",
       "| Plestiodon       |\n",
       "| Takydromus       |\n",
       "| Sphenomorphus    |\n",
       "| Protobothrops    |\n",
       "| Trimeresurus     |\n",
       "| Apodemus         |\n",
       "| Myodes           |\n",
       "| myagropsis       |\n",
       "| Sargassum        |\n",
       "\n"
      ],
      "text/plain": [
       "   Genus           \n",
       "1  Engraulis       \n",
       "2  Sardinops       \n",
       "3  Acridotheres    \n",
       "4  Pycnonotus      \n",
       "5  Chondracanthus  \n",
       "6  Paratrechina    \n",
       "7  Pheidole        \n",
       "8  Pristomyrmex    \n",
       "9  Technomyrmex    \n",
       "10 Tetramorium     \n",
       "11 Drosophila      \n",
       "12 Scaptodrosophila\n",
       "13 Plestiodon      \n",
       "14 Takydromus      \n",
       "15 Sphenomorphus   \n",
       "16 Protobothrops   \n",
       "17 Trimeresurus    \n",
       "18 Apodemus        \n",
       "19 Myodes          \n",
       "20 myagropsis      \n",
       "21 Sargassum       "
      ]
     },
     "metadata": {},
     "output_type": "display_data"
    }
   ],
   "source": [
    "filter(global_term_data, between(lat_max, 20, 60), between(long_max, 120, 140)) %>%\n",
    "    distinct(Genus)"
   ]
  },
  {
   "cell_type": "markdown",
   "id": "fb868c53",
   "metadata": {},
   "source": [
    "We gain these three algae genuses.\n",
    "- [Sargassum](https://www.britannica.com/science/Sargassum)\n",
    "- [myagropsis](http://www.marinespecies.org/aphia.php?p=taxdetails&id=372020)\n",
    "- [Chondracanthus](https://www.algaebase.org/search/species/detail/?species_id=127)"
   ]
  },
  {
   "cell_type": "code",
   "execution_count": 8,
   "id": "e4239785",
   "metadata": {},
   "outputs": [
    {
     "data": {
      "text/html": [
       "<table>\n",
       "<thead><tr><th scope=col>Genus</th><th scope=col>Species</th><th scope=col>Tmax</th></tr></thead>\n",
       "<tbody>\n",
       "\t<tr><td>Chondracanthus</td><td>intermedius   </td><td>31.3          </td></tr>\n",
       "\t<tr><td>myagropsis    </td><td>Myagroides    </td><td>30.0          </td></tr>\n",
       "\t<tr><td>Sargassum     </td><td>fulvellum     </td><td>30.0          </td></tr>\n",
       "\t<tr><td>Sargassum     </td><td>hemiphyllum   </td><td>27.0          </td></tr>\n",
       "\t<tr><td>Sargassum     </td><td>horneri       </td><td>27.0          </td></tr>\n",
       "\t<tr><td>Sargassum     </td><td>macrocarpum   </td><td>31.0          </td></tr>\n",
       "\t<tr><td>Sargassum     </td><td>micracanthum  </td><td>27.0          </td></tr>\n",
       "\t<tr><td>Sargassum     </td><td>patens        </td><td>31.0          </td></tr>\n",
       "\t<tr><td>Sargassum     </td><td>piluliferum   </td><td>30.0          </td></tr>\n",
       "\t<tr><td>Sargassum     </td><td>thunbergii    </td><td>31.0          </td></tr>\n",
       "</tbody>\n",
       "</table>\n"
      ],
      "text/latex": [
       "\\begin{tabular}{r|lll}\n",
       " Genus & Species & Tmax\\\\\n",
       "\\hline\n",
       "\t Chondracanthus & intermedius    & 31.3          \\\\\n",
       "\t myagropsis     & Myagroides     & 30.0          \\\\\n",
       "\t Sargassum      & fulvellum      & 30.0          \\\\\n",
       "\t Sargassum      & hemiphyllum    & 27.0          \\\\\n",
       "\t Sargassum      & horneri        & 27.0          \\\\\n",
       "\t Sargassum      & macrocarpum    & 31.0          \\\\\n",
       "\t Sargassum      & micracanthum   & 27.0          \\\\\n",
       "\t Sargassum      & patens         & 31.0          \\\\\n",
       "\t Sargassum      & piluliferum    & 30.0          \\\\\n",
       "\t Sargassum      & thunbergii     & 31.0          \\\\\n",
       "\\end{tabular}\n"
      ],
      "text/markdown": [
       "\n",
       "| Genus | Species | Tmax |\n",
       "|---|---|---|\n",
       "| Chondracanthus | intermedius    | 31.3           |\n",
       "| myagropsis     | Myagroides     | 30.0           |\n",
       "| Sargassum      | fulvellum      | 30.0           |\n",
       "| Sargassum      | hemiphyllum    | 27.0           |\n",
       "| Sargassum      | horneri        | 27.0           |\n",
       "| Sargassum      | macrocarpum    | 31.0           |\n",
       "| Sargassum      | micracanthum   | 27.0           |\n",
       "| Sargassum      | patens         | 31.0           |\n",
       "| Sargassum      | piluliferum    | 30.0           |\n",
       "| Sargassum      | thunbergii     | 31.0           |\n",
       "\n"
      ],
      "text/plain": [
       "   Genus          Species      Tmax\n",
       "1  Chondracanthus intermedius  31.3\n",
       "2  myagropsis     Myagroides   30.0\n",
       "3  Sargassum      fulvellum    30.0\n",
       "4  Sargassum      hemiphyllum  27.0\n",
       "5  Sargassum      horneri      27.0\n",
       "6  Sargassum      macrocarpum  31.0\n",
       "7  Sargassum      micracanthum 27.0\n",
       "8  Sargassum      patens       31.0\n",
       "9  Sargassum      piluliferum  30.0\n",
       "10 Sargassum      thunbergii   31.0"
      ]
     },
     "metadata": {},
     "output_type": "display_data"
    }
   ],
   "source": [
    "algae_west_coast <- filter(global_term_data, \n",
    "       Genus %in% c(\"Sargassum\", \"myagropsis\", \"Chondracanthus\"),\n",
    "      long_max > 0) %>%\n",
    "    select(Genus, Species, Tmax)\n",
    "\n",
    "algae_west_coast"
   ]
  },
  {
   "cell_type": "markdown",
   "id": "9928942e",
   "metadata": {},
   "source": [
    "With a quick glance at this table, we can see that the max mean of min temperature during the heatwave (21.71) never exceeded the max temperatures of these species."
   ]
  },
  {
   "cell_type": "code",
   "execution_count": 9,
   "id": "74bea6ae",
   "metadata": {},
   "outputs": [
    {
     "data": {
      "text/html": [
       "<table>\n",
       "<thead><tr><th scope=col>datetime</th><th scope=col>mean_ext</th><th scope=col>mean_lat</th><th scope=col>mean_long</th><th scope=col>mean_deg_lat</th><th scope=col>mean_deg_long</th></tr></thead>\n",
       "<tbody>\n",
       "\t<tr><td>2021-06-13 00:00:20</td><td>19.05565           </td><td>32.40404           </td><td>117.1328           </td><td>32.67333           </td><td>117.2213           </td></tr>\n",
       "\t<tr><td>2021-06-13 00:00:21</td><td>18.62864           </td><td>32.39704           </td><td>117.1738           </td><td>32.66167           </td><td>117.2897           </td></tr>\n",
       "\t<tr><td>2021-06-13 00:00:22</td><td>19.00354           </td><td>32.39495           </td><td>117.1988           </td><td>32.65833           </td><td>117.3313           </td></tr>\n",
       "\t<tr><td>2021-06-13 00:00:23</td><td>19.09503           </td><td>32.39151           </td><td>117.2244           </td><td>32.65250           </td><td>117.3740           </td></tr>\n",
       "\t<tr><td>2021-06-13 00:00:24</td><td>19.17977           </td><td>32.39131           </td><td>117.2250           </td><td>32.65217           </td><td>117.3750           </td></tr>\n",
       "\t<tr><td>2021-06-13 00:00:25</td><td>19.10705           </td><td>32.39111           </td><td>117.2255           </td><td>32.65183           </td><td>117.3758           </td></tr>\n",
       "</tbody>\n",
       "</table>\n"
      ],
      "text/latex": [
       "\\begin{tabular}{r|llllll}\n",
       " datetime & mean\\_ext & mean\\_lat & mean\\_long & mean\\_deg\\_lat & mean\\_deg\\_long\\\\\n",
       "\\hline\n",
       "\t 2021-06-13 00:00:20 & 19.05565            & 32.40404            & 117.1328            & 32.67333            & 117.2213           \\\\\n",
       "\t 2021-06-13 00:00:21 & 18.62864            & 32.39704            & 117.1738            & 32.66167            & 117.2897           \\\\\n",
       "\t 2021-06-13 00:00:22 & 19.00354            & 32.39495            & 117.1988            & 32.65833            & 117.3313           \\\\\n",
       "\t 2021-06-13 00:00:23 & 19.09503            & 32.39151            & 117.2244            & 32.65250            & 117.3740           \\\\\n",
       "\t 2021-06-13 00:00:24 & 19.17977            & 32.39131            & 117.2250            & 32.65217            & 117.3750           \\\\\n",
       "\t 2021-06-13 00:00:25 & 19.10705            & 32.39111            & 117.2255            & 32.65183            & 117.3758           \\\\\n",
       "\\end{tabular}\n"
      ],
      "text/markdown": [
       "\n",
       "| datetime | mean_ext | mean_lat | mean_long | mean_deg_lat | mean_deg_long |\n",
       "|---|---|---|---|---|---|\n",
       "| 2021-06-13 00:00:20 | 19.05565            | 32.40404            | 117.1328            | 32.67333            | 117.2213            |\n",
       "| 2021-06-13 00:00:21 | 18.62864            | 32.39704            | 117.1738            | 32.66167            | 117.2897            |\n",
       "| 2021-06-13 00:00:22 | 19.00354            | 32.39495            | 117.1988            | 32.65833            | 117.3313            |\n",
       "| 2021-06-13 00:00:23 | 19.09503            | 32.39151            | 117.2244            | 32.65250            | 117.3740            |\n",
       "| 2021-06-13 00:00:24 | 19.17977            | 32.39131            | 117.2250            | 32.65217            | 117.3750            |\n",
       "| 2021-06-13 00:00:25 | 19.10705            | 32.39111            | 117.2255            | 32.65183            | 117.3758            |\n",
       "\n"
      ],
      "text/plain": [
       "  datetime            mean_ext mean_lat mean_long mean_deg_lat mean_deg_long\n",
       "1 2021-06-13 00:00:20 19.05565 32.40404 117.1328  32.67333     117.2213     \n",
       "2 2021-06-13 00:00:21 18.62864 32.39704 117.1738  32.66167     117.2897     \n",
       "3 2021-06-13 00:00:22 19.00354 32.39495 117.1988  32.65833     117.3313     \n",
       "4 2021-06-13 00:00:23 19.09503 32.39151 117.2244  32.65250     117.3740     \n",
       "5 2021-06-13 00:00:24 19.17977 32.39131 117.2250  32.65217     117.3750     \n",
       "6 2021-06-13 00:00:25 19.10705 32.39111 117.2255  32.65183     117.3758     "
      ]
     },
     "metadata": {},
     "output_type": "display_data"
    }
   ],
   "source": [
    "head(temperature_data)"
   ]
  },
  {
   "cell_type": "markdown",
   "id": "9238b1ea",
   "metadata": {},
   "source": [
    "## Other Studies of Algae Species near BC and the Pacific Coast"
   ]
  },
  {
   "cell_type": "markdown",
   "id": "45cf4cf0",
   "metadata": {},
   "source": [
    "### *Sargassum horneri*"
   ]
  },
  {
   "cell_type": "markdown",
   "id": "9f704f0f",
   "metadata": {},
   "source": [
    "To further support *Sargassum horneri*'s temperature tolerance, [a more recent study by Sadie L. Small and Matthew S. Edwards in 2021](https://doi.org/10.1111/jpy.13148) found that total mortality ranges around 28–30°C, with 15–20°C to be the optimal temperature range for germling development (germling development maxing out around 25°C)."
   ]
  },
  {
   "cell_type": "markdown",
   "id": "3357a666",
   "metadata": {},
   "source": [
    "### Dinoflagellates of genus *Alexandrium* in the Salish Sea"
   ]
  },
  {
   "cell_type": "markdown",
   "id": "38719347",
   "metadata": {},
   "source": [
    "<sub>Also known as <i>A. tamarense</i> or <i>A. fundyense</i> or <i>A. catenella</i>.</sub>\n",
    "\n",
    "In a [2016 study by Brian D. Bill et. al.](https://doi.org/10.1111/jpy.12386) referenced Noris and Chew's work in 1975 about how \"optimal temperature and salinity ranges for growth were between 13°C and 17°C temperature and 15–40 salinity\". The researchers have also found that \"growth of both isolates was inhibited at temperatures below ~7.7°C and above ~24°C\" where being above ~24°C resulted in \"growth rates dropped abruptly to near zero\" in some strains."
   ]
  },
  {
   "cell_type": "markdown",
   "id": "ea50c27a",
   "metadata": {},
   "source": [
    "### *Phaeodactylum tricornutum*"
   ]
  },
  {
   "cell_type": "markdown",
   "id": "6ec3816d",
   "metadata": {},
   "source": [
    "Another study, [conducted in 2011 by Gudrun Kräbs and Claudia Büchel](https://doi.org/10.1515/bot.2011.037), focused on the eco-physiology of *Phaeodactylum tricornutum* and looked at it's three strains isolated in Vancouver (NE Pacific Ocean), Plymouth (NE Atlantic Ocean) and Guam (tropical western Pacific Ocean). \n",
    "> \"The Vancouver and Plymouth strains are from cold-temperate conditions where water-temperature is between 10°C and in winter and 15°C in the summer\" (p. 232). \"Cultures of each strain were exposed to a combination of temperatures ranging from 12°C to 30°C.\"\n",
    "\n",
    "At 24°C, the Vancouver strain started to see some vitality declines, with 30°C straining it to it's limits while the other strains tolerated, albeit not ideal conditions (p. 234-235). "
   ]
  },
  {
   "cell_type": "markdown",
   "id": "4522eb1c",
   "metadata": {},
   "source": [
    "### *Calliarthron tuberculosum & Corallina vancouveriensis*"
   ]
  },
  {
   "cell_type": "markdown",
   "id": "2761e84a",
   "metadata": {},
   "source": [
    "[This study by Rebecca J. Guenther and Patrick T. Martone in 2013](https://doi.org/10.1111/jpy.12161) looked at aerial exposure during low tide in tidepools, and the warming of water during which the coralline algae (*Calliarthron tuberculosum & Corallina vancouveriensis*) would be submerged/exposed and found that:\n",
    "\n",
    "\n",
    "\n",
    "Aerial Exposure                     | Warming Tidepool Water (submerged)\n",
    "------------------------------------|-----------------------\n",
    "Calliarthron is extremely sensitive | Calliarthron is stressed\n",
    "Corallina is somewhat stressed      | Corallina is not stressed\n",
    "\n",
    "<center><sub>See section \"Recovery when the tide returns\" (Guenther & Martone, 2013) .</sub></center>\n",
    "\n",
    "but they have also pointed out that:\n",
    "> \"Neither Corallina nor Calliarthron recovered photosynthesis after emersion as rapidly as other intertidal algae, such as *Mastocarpus papillatus*, *Endocladia muricata*, *Fucus serratus*, and *Fucus spiralis*\".\n",
    "\n",
    "\n",
    "<center><b>Photosynthetic rate after submersion:</b></center>\n",
    "\n",
    "Species      | Photosynthetic rate (12°C) | Photosynthetic rate (20°C)\n",
    "-------------|----------------------------|---------------------------\n",
    "Calliarthron | 1.40 ± 0.29                | 1.13 ± 0.18\n",
    "Corallina    | 1.77 ± 0.12                | 1.93 ± 0.07 \n",
    "\n",
    "<center><sub><b>Photosynthetic rate units:</b> $\\frac{\\text{μmol of }O^2}{\\text{(gDW · min)}}$</sub></center>"
   ]
  },
  {
   "cell_type": "markdown",
   "id": "a94fb97e",
   "metadata": {},
   "source": [
    "## Temperature Tolerance Studies on Predators"
   ]
  },
  {
   "cell_type": "markdown",
   "id": "8b13f522",
   "metadata": {},
   "source": [
    "```{Attention}\n",
    "This section is a work in progress.\n",
    "```"
   ]
  },
  {
   "cell_type": "markdown",
   "id": "16826650",
   "metadata": {},
   "source": [
    "[Potential predators](http://dx.doi.org/10.1002/ece3.6498) and their tolerance for ocean temperatures.\n",
    "- Nucella lamellosa\n",
    "- Littorina scutulata\n",
    "- Littorina sitkana\n",
    "- Balanus glandula"
   ]
  }
 ],
 "metadata": {
  "kernelspec": {
   "display_name": "R",
   "language": "R",
   "name": "ir"
  },
  "language_info": {
   "codemirror_mode": "r",
   "file_extension": ".r",
   "mimetype": "text/x-r-source",
   "name": "R",
   "pygments_lexer": "r",
   "version": "3.6.1"
  }
 },
 "nbformat": 4,
 "nbformat_minor": 5
}
