{
 "cells": [
  {
   "cell_type": "markdown",
   "id": "a025c6d9",
   "metadata": {},
   "source": [
    "# Overview"
   ]
  },
  {
   "cell_type": "markdown",
   "id": "f06d35b3",
   "metadata": {},
   "source": [
    "**Class:** BIOL 230, W2021\n",
    "\n",
    "**Written by:** Kaede Ito"
   ]
  },
  {
   "cell_type": "markdown",
   "id": "8fd70b21",
   "metadata": {},
   "source": [
    "## Ecology Question"
   ]
  },
  {
   "cell_type": "markdown",
   "id": "5020efe8",
   "metadata": {},
   "source": [
    "Given ocean temperatures off the coast of British Columbia, what could be the effect of the 2021 summer Western North America heat wave and how could it have changed the community of algae species (diversity, abundance, new species establishment)?"
   ]
  },
  {
   "cell_type": "markdown",
   "id": "2b1f0963",
   "metadata": {},
   "source": [
    "## Data Sources"
   ]
  },
  {
   "cell_type": "markdown",
   "id": "5e312dee",
   "metadata": {},
   "source": [
    "For this project, I need:\n",
    "1. ocean surface / close-to-surface temperatures during the summer heatwave period \n",
    "    - coordinates\n",
    "    - time and date in the right range (mid June to late July) \n",
    "2. temperature tolerance of algae species that live in the area\n",
    "    - anecdotal / observational / measured information of the algae during that time **OR**\n",
    "    - observational / measured information of the tolerated temperature ranges of algae that reside in the area measured for temperature"
   ]
  },
  {
   "cell_type": "markdown",
   "id": "dd9c6dcc",
   "metadata": {},
   "source": [
    "### Ocean Temperatures"
   ]
  },
  {
   "cell_type": "markdown",
   "id": "0d3806fa",
   "metadata": {},
   "source": [
    "#### National Centers for Environmental Information\n",
    "For point 1, this dataset {cite:p}`Dewees2021` was found to be suitable for the project.\n",
    "\n",
    "All information about ocean temperatures was collected from this dataset. The information needed for this analysis was identified through combing through the [metadata](https://www.nodc.noaa.gov/archive/arc0185/0240415/1.1/data/0-data/RB-0_2021-07-27-133235/DeviceConfiguration_20210613-154208.xml) which can be inspected in the browser. \n",
    "\n",
    "The `SBE45-TSG-MSG_20210XXX-XXXXXX.Raw` and `SST-TSG-Temp-Diff-MSG_20210XXX-XXXXXX.Raw` were identified as having external (not inside the ship) temperatures measured at different times, so both file types were parsed for more information. Since those files don't measure the GPS location, another file `Primary-GPS-GGA_XXX-XXXXXX.Raw` were matched using timestamps.\n",
    "\n",
    "To match the timestamps even if the second values are different and to reduce the amount of information shown on the plots, the temperature values and the GPS values were averaged over a minute, then matched using the minute value."
   ]
  },
  {
   "cell_type": "markdown",
   "id": "e8fdbd11",
   "metadata": {},
   "source": [
    "### Temperature Tolerance of Algae"
   ]
  },
  {
   "cell_type": "markdown",
   "id": "3d6b907a",
   "metadata": {},
   "source": [
    "For point 2, a variety of sources were used. \n",
    "\n",
    "As a starting point, {cite:t}`Bennett2018` was analyzed to see if there were any immediate conclusions that could be drawn. \n",
    "\n",
    "Since there wasn't enough evidence, other sources like {cite:ps}`Small2021` (Study about *Sargassum horneri*, an organism found in the {cite:t}`Bennett2018` study), {cite:p}`Bill2016`, {cite:ps}`Guenther2014` and {cite:ps}`Kraebs2011` was also used."
   ]
  }
 ],
 "metadata": {
  "jupytext": {
   "formats": "ipynb,md:myst",
   "text_representation": {
    "extension": ".md",
    "format_name": "myst",
    "format_version": 0.13,
    "jupytext_version": "1.11.5"
   }
  },
  "kernelspec": {
   "display_name": "R",
   "language": "R",
   "name": "ir"
  },
  "language_info": {
   "codemirror_mode": "r",
   "file_extension": ".r",
   "mimetype": "text/x-r-source",
   "name": "R",
   "pygments_lexer": "r",
   "version": "3.6.1"
  },
  "source_map": [
   13,
   17,
   23,
   27,
   31,
   35,
   45,
   49,
   60,
   64
  ]
 },
 "nbformat": 4,
 "nbformat_minor": 5
}