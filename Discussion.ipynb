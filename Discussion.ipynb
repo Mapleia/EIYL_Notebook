{
 "cells": [
  {
   "cell_type": "markdown",
   "id": "dc7ebdc5",
   "metadata": {},
   "source": [
    "# Discussion on Ocean Temperatures & Algae"
   ]
  },
  {
   "cell_type": "markdown",
   "id": "2ed9e68f",
   "metadata": {},
   "source": [
    "Unfortunately, more data needs to be collected to see if the heatwave has significantly increased, or decreased the amount of time where various algae species benefit or suffers from the effect of the heatwave. "
   ]
  },
  {
   "cell_type": "code",
   "execution_count": 1,
   "id": "c24e6ac3",
   "metadata": {},
   "outputs": [
    {
     "name": "stderr",
     "output_type": "stream",
     "text": [
      "Registered S3 methods overwritten by 'ggplot2':\n",
      "  method         from \n",
      "  [.quosures     rlang\n",
      "  c.quosures     rlang\n",
      "  print.quosures rlang\n",
      "Registered S3 method overwritten by 'rvest':\n",
      "  method            from\n",
      "  read_xml.response xml2\n",
      "-- Attaching packages --------------------------------------- tidyverse 1.2.1 --\n",
      "v ggplot2 3.1.1       v purrr   0.3.2  \n",
      "v tibble  2.1.1       v dplyr   0.8.0.1\n",
      "v tidyr   0.8.3       v stringr 1.4.0  \n",
      "v readr   1.3.1       v forcats 0.4.0  \n",
      "-- Conflicts ------------------------------------------ tidyverse_conflicts() --\n",
      "x dplyr::filter() masks stats::filter()\n",
      "x dplyr::lag()    masks stats::lag()\n"
     ]
    }
   ],
   "source": [
    "library(tidyverse)\n",
    "options(repr.plot.width=10, repr.plot.height=6,warn=-1)"
   ]
  },
  {
   "cell_type": "code",
   "execution_count": 2,
   "id": "2fa9022f",
   "metadata": {},
   "outputs": [
    {
     "name": "stderr",
     "output_type": "stream",
     "text": [
      "Parsed with column specification:\n",
      "cols(\n",
      "  datetime = col_datetime(format = \"\"),\n",
      "  mean_ext = col_double()\n",
      ")\n"
     ]
    }
   ],
   "source": [
    "temperature_data <- read_csv(\"data/temp_processed_summarized.csv\")"
   ]
  },
  {
   "cell_type": "markdown",
   "id": "b3436b94",
   "metadata": {},
   "source": [
    "## Potential Increase in Invasive Species?"
   ]
  },
  {
   "cell_type": "markdown",
   "id": "060dff1a",
   "metadata": {},
   "source": [
    "Invasive species, like *Sargassum horneri*, are known to be able to have vast, negative effects to the ecosystems they settle in. As mentioned in the study by {cite:ts}`Small2021`, *Sargassum horneri* is an invasive species that was first reported in Long Beach Harbor, CA, USA in 2003. The researchers discuss the broader impact of the displacement of native seaweeds, since many species of macroalgae are **\"ecosystem-engineers\"** providing a foundation for the community centered around them. If their range and presense is altered by the a more **competitive dominant invasive species**, it could have consequences like reducing **species richness** among other factors that make up the ecosystem.\n",
    "\n",
    "This is especially concerning for coastal ecosystems around Vancouver, because it is known to live in shallow rocky reef habitats around Santa Cruz Island {cite:ps}`Small2021`. Another study by {site:ts}`Marks2018` concludes that they occupied all hard substrate type, with a preference for medium and small boulders, which BC coast is no stranger to. \n",
    "\n",
    "With their tolerance higher than 20°C, and optimal temperatures landing around the temperatures of the heatwave, this species could be one of concern for BC's coastal waters."
   ]
  },
  {
   "cell_type": "code",
   "execution_count": 3,
   "id": "888219c8",
   "metadata": {},
   "outputs": [
    {
     "data": {
      "text/html": [
       "0.40126861555433"
      ],
      "text/latex": [
       "0.40126861555433"
      ],
      "text/markdown": [
       "0.40126861555433"
      ],
      "text/plain": [
       "[1] 0.4012686"
      ]
     },
     "metadata": {},
     "output_type": "display_data"
    }
   ],
   "source": [
    "between_15_20 <- filter(temperature_data, \n",
    "                        between(mean_ext, 15, 20))\n",
    "count(between_15_20)$n / count(temperature_data)$n"
   ]
  },
  {
   "cell_type": "markdown",
   "id": "61643d74",
   "metadata": {},
   "source": [
    "Above calculates the percentage of datapoints that were found to be between 15 ~ 20 (not including), and it finds that **40.1%** of the data points to fit the range of this invasive species. \n",
    "> Do note that this data is the mean temperature across a minute. "
   ]
  },
  {
   "cell_type": "markdown",
   "id": "b4f72ab1",
   "metadata": {},
   "source": [
    "## Potential Increase in Toxic Species?"
   ]
  },
  {
   "cell_type": "markdown",
   "id": "d67d6c16",
   "metadata": {},
   "source": [
    "Dinoflagellates in the genus *Alexandrium*  can produces paralytic shellfish toxins (toxic blooms) to a level that is unsafe for human consumption, which can lead to loss of life and to economic losses in the shellfish harvesting industry {cite:t}`Bill2016`. \n",
    "\n",
    "As found in the study, they thrive in conditions between 13-17°C, but suffer in temperatures above 24°C. Running the same percentage calculations as above results in:"
   ]
  },
  {
   "cell_type": "code",
   "execution_count": 5,
   "id": "cc32bdde",
   "metadata": {},
   "outputs": [
    {
     "data": {
      "text/html": [
       "0.55819084390513"
      ],
      "text/latex": [
       "0.55819084390513"
      ],
      "text/markdown": [
       "0.55819084390513"
      ],
      "text/plain": [
       "[1] 0.5581908"
      ]
     },
     "metadata": {},
     "output_type": "display_data"
    }
   ],
   "source": [
    "between_13_17 <- filter(temperature_data, \n",
    "                        between(mean_ext, 13, 17))\n",
    "count(between_13_17)$n / count(temperature_data)$n"
   ]
  },
  {
   "cell_type": "markdown",
   "id": "9cf724e4",
   "metadata": {},
   "source": [
    "and finds that **55.8%** of the data points fit the parameters of where they thrive in. "
   ]
  },
  {
   "cell_type": "markdown",
   "id": "ad02de6a",
   "metadata": {},
   "source": [
    "## Potential Decrease in Native Species?"
   ]
  },
  {
   "cell_type": "markdown",
   "id": "30ad79d6",
   "metadata": {},
   "source": [
    "Around the same temperature where *Alexandrium* starts to decline in vitality, so does *Phaeodactylum tricornutum* {cite:ts}`Kraebs2011`. Although not an immediate concern, spikes in temperatures from events like the heatwave could harm the population of Vancouver-specific strain of *Phaeodactylum tricornutum*. "
   ]
  },
  {
   "cell_type": "markdown",
   "id": "872fc95b",
   "metadata": {},
   "source": [
    "One of particular concern could be of the *Calliarthron tuberculosum* species, where {cite:ts}`Guenther2014` found that aerial exposure and warm submersion stressed it out. With as extreme heatwave of the one like during 2021 summer on the west coast, it could dry out low tide tide pools and warm them up during high tide, which could lead to the decline of *Calliarthron tuberculosum*."
   ]
  }
 ],
 "metadata": {
  "kernelspec": {
   "display_name": "R",
   "language": "R",
   "name": "ir"
  },
  "language_info": {
   "codemirror_mode": "r",
   "file_extension": ".r",
   "mimetype": "text/x-r-source",
   "name": "R",
   "pygments_lexer": "r",
   "version": "3.6.1"
  }
 },
 "nbformat": 4,
 "nbformat_minor": 5
}
